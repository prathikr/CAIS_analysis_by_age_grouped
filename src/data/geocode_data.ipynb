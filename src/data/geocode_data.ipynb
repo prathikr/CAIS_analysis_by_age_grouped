{
 "cells": [
  {
   "cell_type": "code",
   "execution_count": null,
   "metadata": {},
   "outputs": [],
   "source": [
    "# store start time to get execution time of entire script\n",
    "import time\n",
    "start_time = time.time()"
   ]
  },
  {
   "cell_type": "code",
   "execution_count": null,
   "metadata": {},
   "outputs": [],
   "source": [
    "import pandas as pd\n",
    "pd.set_option('display.max_rows', 500)\n",
    "pd.set_option('display.max_columns', 500)\n",
    "import csv\n",
    "\n",
    "df = pd.read_csv('data_cleaned.csv')\n",
    "df.head()"
   ]
  },
  {
   "cell_type": "code",
   "execution_count": null,
   "metadata": {},
   "outputs": [],
   "source": [
    "df['Address'] = df['agyaddr'] + ', ' + df['City'] + ', ' + df['State']\n",
    "addresses = list(df['Address'].unique())\n",
    "len(addresses)"
   ]
  },
  {
   "cell_type": "code",
   "execution_count": null,
   "metadata": {},
   "outputs": [],
   "source": [
    "%%time\n",
    "\n",
    "from opencage.geocoder import OpenCageGeocode\n",
    "from tqdm.notebook import tqdm\n",
    "\n",
    "# get longitude and latitude for each unique address\n",
    "key = '2d4ad4cfcdc44021abfe1e347daa6dc7'\n",
    "geocoder = OpenCageGeocode(key)\n",
    "\n",
    "geocoded_addrs = []\n",
    "\n",
    "for addr in tqdm(addresses):\n",
    "    results = geocoder.geocode(addr)\n",
    "    lat = results[0]['geometry']['lat']\n",
    "    lng = results[0]['geometry']['lng']\n",
    "    geocoded_addrs.append([addr, lat, lng])\n",
    "    # print(addr + ' -> (' + str(lat) + ', ' + str(lon) + ')')"
   ]
  },
  {
   "cell_type": "code",
   "execution_count": null,
   "metadata": {},
   "outputs": [],
   "source": [
    "geocoded_addrs_df = pd.DataFrame(geocoded_addrs, columns=['Address', 'lat', 'lng'])\n",
    "geocoded_addrs_df.head()"
   ]
  },
  {
   "cell_type": "code",
   "execution_count": null,
   "metadata": {},
   "outputs": [],
   "source": [
    "geocoded_addrs_df.isna().sum()"
   ]
  },
  {
   "cell_type": "code",
   "execution_count": null,
   "metadata": {},
   "outputs": [],
   "source": [
    "%%time\n",
    "\n",
    "import urllib, json, requests\n",
    "import numpy as np\n",
    "\n",
    "# get block_fips code based on longitude and latitude\n",
    "def api_call(row):\n",
    "    lat = row['lat']\n",
    "    # http://data.fcc.gov/api/block/find?format=json&latitude=28.35975&longitude=-81.421988&showall=true\n",
    "    lng = row['lng']\n",
    "    URL = \"https://geo.fcc.gov/api/census/block/find?format=json&latitude=\" + str(lat) + \"&longitude=\" + str(lng)\n",
    "    with urllib.request.urlopen(URL) as url:\n",
    "        data = json.loads(url.read().decode())\n",
    "    try:\n",
    "        return int(data['County']['FIPS']), int(data['Block']['FIPS']), data['State']['name']\n",
    "    except TypeError: # response failed to get county fips\n",
    "        return np.nan, np.nan, np.nan\n",
    "\n",
    "geocoded_addrs_df['state_name'] = ''\n",
    "for ind,row in tqdm(geocoded_addrs_df.iterrows(), total=geocoded_addrs_df.shape[0]):\n",
    "    county_FIPS, block_FIPS, state_name = api_call(row)\n",
    "    geocoded_addrs_df.set_value(ind, 'county_FIPS', county_FIPS)\n",
    "    geocoded_addrs_df.set_value(ind, 'block_FIPS', block_FIPS)\n",
    "    geocoded_addrs_df.set_value(ind, 'state_name', state_name)\n",
    "    \n",
    "geocoded_addrs_df.head()"
   ]
  },
  {
   "cell_type": "code",
   "execution_count": null,
   "metadata": {},
   "outputs": [],
   "source": [
    "geocoded_addrs_df.isna().sum() # how many nulls per column"
   ]
  },
  {
   "cell_type": "code",
   "execution_count": null,
   "metadata": {},
   "outputs": [],
   "source": [
    "# re-merge patient data and geocoded addresses by the address feature\n",
    "df = pd.merge(df, geocoded_addrs_df, on=['Address'], how='left')"
   ]
  },
  {
   "cell_type": "code",
   "execution_count": null,
   "metadata": {},
   "outputs": [],
   "source": [
    "df.shape"
   ]
  },
  {
   "cell_type": "code",
   "execution_count": null,
   "metadata": {},
   "outputs": [],
   "source": [
    "df.head()"
   ]
  },
  {
   "cell_type": "code",
   "execution_count": null,
   "metadata": {},
   "outputs": [],
   "source": [
    "df.to_csv('data_geocoded.csv')"
   ]
  },
  {
   "cell_type": "code",
   "execution_count": null,
   "metadata": {},
   "outputs": [],
   "source": [
    "# print out total notebook execution time\n",
    "total_seconds = int(time.time() - start_time)\n",
    "minutes = total_seconds // 60\n",
    "seconds = total_seconds % 60\n",
    "print(\"--- \" + str(minutes) + \" minutes \" + str(seconds) + \" seconds ---\")"
   ]
  },
  {
   "cell_type": "code",
   "execution_count": null,
   "metadata": {},
   "outputs": [],
   "source": []
  }
 ],
 "metadata": {
  "kernelspec": {
   "display_name": "Python 3",
   "language": "python",
   "name": "python3"
  },
  "language_info": {
   "codemirror_mode": {
    "name": "ipython",
    "version": 3
   },
   "file_extension": ".py",
   "mimetype": "text/x-python",
   "name": "python",
   "nbconvert_exporter": "python",
   "pygments_lexer": "ipython3",
   "version": "3.7.3"
  }
 },
 "nbformat": 4,
 "nbformat_minor": 2
}
