{
 "cells": [
  {
   "cell_type": "code",
   "execution_count": 161,
   "metadata": {},
   "outputs": [],
   "source": [
    "# store start time to get execution time of entire script\n",
    "import time\n",
    "start_time = time.time()"
   ]
  },
  {
   "cell_type": "code",
   "execution_count": 162,
   "metadata": {},
   "outputs": [],
   "source": [
    "# helper functions for displaying table data\n",
    "\n",
    "import numpy as np\n",
    "from IPython.display import display_html\n",
    "\n",
    "# n is the number of columns to display data in\n",
    "def display_side_by_side(series_obj, n):\n",
    "    df = pd.DataFrame(series_obj)\n",
    "    partition = int(round(len(df) / n))\n",
    "    lower_bound = 0\n",
    "    upper_bound = partition\n",
    "    args = []\n",
    "    for i in range(n):\n",
    "        args.append(df[lower_bound:upper_bound])\n",
    "        lower_bound += partition\n",
    "        upper_bound += partition\n",
    "    helper(args)\n",
    "\n",
    "def helper(args):\n",
    "    html_str=''\n",
    "    for df in args:\n",
    "        html_str+=df.to_html()\n",
    "    display_html(html_str.replace('table','table style=\"display:inline\"'),raw=True)"
   ]
  },
  {
   "cell_type": "code",
   "execution_count": 163,
   "metadata": {},
   "outputs": [],
   "source": [
    "# helper function for plotting out ground truth curves\n",
    "\n",
    "import matplotlib.pyplot as plt\n",
    "\n",
    "def get_ground_truth(data):\n",
    "    relapsed = data[data.Illicit_Cens5 == 1]\n",
    "    counts = relapsed['Illicit_Days5'].value_counts()\n",
    "    counts = counts.to_dict()\n",
    "    temp = [len(data)] * 365\n",
    "    labels = list(range(365))\n",
    "    for i in range(365):\n",
    "        labels[i] += 1\n",
    "    total = 0\n",
    "    errors = []\n",
    "    for i in range(365):\n",
    "        try:\n",
    "            temp[i] = temp[i] - counts[i+1] - total\n",
    "            total = total + counts[i+1]\n",
    "        except KeyError:\n",
    "            errors.append(i)\n",
    "\n",
    "    for ele in sorted(errors, reverse = False):\n",
    "        if ele != 0:\n",
    "            temp[ele] = temp[ele-1]\n",
    "        else:\n",
    "             temp[0] = len(data)\n",
    "    temp = [x / len(data) for x in temp]\n",
    "    return labels, temp"
   ]
  },
  {
   "cell_type": "code",
   "execution_count": 164,
   "metadata": {},
   "outputs": [],
   "source": [
    "from sklearn.model_selection import cross_validate\n",
    "from sksurv.ensemble import GradientBoostingSurvivalAnalysis\n",
    "from sksurv.ensemble import RandomSurvivalForest\n",
    "from sksurv.linear_model import CoxnetSurvivalAnalysis\n",
    "\n",
    "def run_models(X, y, label):\n",
    "    gbsa = GradientBoostingSurvivalAnalysis()\n",
    "    scores = cross_validate(gbsa, X, y, cv=5)\n",
    "    gbsa_score = scores['test_score'].mean()\n",
    "    print('RF Boosted score:', gbsa_score)\n",
    "    \n",
    "    gbsa = GradientBoostingSurvivalAnalysis()\n",
    "    gbsa.fit(X, y)\n",
    "    \n",
    "    rsf = RandomSurvivalForest()\n",
    "    scores = cross_validate(rsf, X, y, cv=5)\n",
    "    rsf_score = scores['test_score'].mean()\n",
    "    print('RF score:', rsf_score)\n",
    "    \n",
    "    rsf = RandomSurvivalForest()\n",
    "    rsf.fit(X, y)\n",
    "    \n",
    "    # l1_ratio = 1 adjusts model to implement LASSO method for penalties\n",
    "    rcr = CoxnetSurvivalAnalysis(l1_ratio=1)\n",
    "    scores = cross_validate(rcr, X, y, cv=5)\n",
    "    rcr_score = scores['test_score'].mean()\n",
    "    print('Lasso score:', rcr_score)\n",
    "    \n",
    "    # fit_baseline_model = True allows us to create survival/hazard plots after model is fit\n",
    "    rcr = CoxnetSurvivalAnalysis(fit_baseline_model=True, l1_ratio=1)\n",
    "    rcr.fit(X, y)\n",
    "    \n",
    "    # concordance index\n",
    "    scores = {'Model': ['Random Forest Boosted','Random Forest','Lasso','Dataset Size'], \n",
    "              label: [gbsa_score,rsf_score,rcr_score,X.shape[0]]}\n",
    "    \n",
    "    concordance = pd.DataFrame(data=scores)\n",
    "    \n",
    "    # return scores and models\n",
    "    return concordance, gbsa, rsf, rcr"
   ]
  },
  {
   "cell_type": "code",
   "execution_count": 165,
   "metadata": {},
   "outputs": [],
   "source": [
    "def get_survival_graph(rsf, rcr, X, Y, label, filename):\n",
    "    pred_surv_rsf = rsf.predict_survival_function(X)\n",
    "    pred_surv_rcr = rcr.predict_survival_function(X)\n",
    "    \n",
    "    # display survival plot\n",
    "    plt.suptitle(label)\n",
    "    plt.plot(np.mean([person for person in pred_surv_rsf], axis=0), label='RF')\n",
    "    plt.plot(np.mean([person.y for person in pred_surv_rcr], axis=0), label='Lasso')\n",
    "    labels, temp = get_ground_truth(Y)\n",
    "    plt.plot(labels, temp, label='Ground Truth')\n",
    "    plt.legend()\n",
    "    plt.xlim(0, 365)\n",
    "    plt.xticks(np.arange(0, 365, step=50))\n",
    "    plt.yticks(np.arange(0, 1.1, step=0.1))\n",
    "    plt.savefig(filename)\n",
    "        \n",
    "    plt.show()"
   ]
  },
  {
   "cell_type": "code",
   "execution_count": 166,
   "metadata": {},
   "outputs": [],
   "source": [
    "def get_feature_importance(features, gbsa, rcr, label):\n",
    "    # feature importances from Boosted Random Forest\n",
    "    feature_importance_rf = pd.DataFrame({'Feature':features, label:gbsa.feature_importances_,})\n",
    "    feature_importance_rf.sort_values(by=[label], ascending=False, inplace=True)\n",
    "    feature_importance_rf = feature_importance_rf.nlargest(10,[label]) # keep top 10 features\n",
    "    feature_importance_rf = feature_importance_rf[feature_importance_rf[label] != 0]\n",
    "\n",
    "    # feature importances from Lasso\n",
    "    feature_importance_lasso = pd.DataFrame({'Feature':features,\n",
    "                                                  label:np.average(rcr.coef_, weights=rcr.alphas_, axis = 1),})\n",
    "    feature_importance_lasso[label + '_abs'] = np.absolute(feature_importance_lasso[label])\n",
    "    feature_importance_lasso = feature_importance_lasso.nlargest(10,[label + '_abs']) # keep top 10 features\n",
    "    feature_importance_lasso = feature_importance_lasso[feature_importance_lasso[label] != 0]\n",
    "    \n",
    "    return feature_importance_rf, feature_importance_lasso"
   ]
  },
  {
   "cell_type": "markdown",
   "metadata": {},
   "source": [
    "Survival Analysis by Severity"
   ]
  },
  {
   "cell_type": "code",
   "execution_count": 167,
   "metadata": {},
   "outputs": [
    {
     "data": {
      "text/html": [
       "<div>\n",
       "<style scoped>\n",
       "    .dataframe tbody tr th:only-of-type {\n",
       "        vertical-align: middle;\n",
       "    }\n",
       "\n",
       "    .dataframe tbody tr th {\n",
       "        vertical-align: top;\n",
       "    }\n",
       "\n",
       "    .dataframe thead th {\n",
       "        text-align: right;\n",
       "    }\n",
       "</style>\n",
       "<table border=\"1\" class=\"dataframe\">\n",
       "  <thead>\n",
       "    <tr style=\"text-align: right;\">\n",
       "      <th></th>\n",
       "      <th>Unnamed: 0</th>\n",
       "      <th>Unnamed: 0.1</th>\n",
       "      <th>Unnamed: 0.1.1</th>\n",
       "      <th>ID</th>\n",
       "      <th>State</th>\n",
       "      <th>City</th>\n",
       "      <th>agyaddr</th>\n",
       "      <th>xobsyr_0</th>\n",
       "      <th>Illicit_Days5</th>\n",
       "      <th>Illicit_Cens5</th>\n",
       "      <th>female_cd</th>\n",
       "      <th>nonwhite_cd</th>\n",
       "      <th>unemplmt_cd</th>\n",
       "      <th>prsatx_cd</th>\n",
       "      <th>gvsg_cd</th>\n",
       "      <th>CWSg_0_cd</th>\n",
       "      <th>srprobg_cd</th>\n",
       "      <th>dssg_0_cd</th>\n",
       "      <th>epsg_0_cd</th>\n",
       "      <th>adhdg_0_cd</th>\n",
       "      <th>cdsg_0_cd</th>\n",
       "      <th>cjsig_0_cd</th>\n",
       "      <th>lrig_0_cd</th>\n",
       "      <th>srig_0_cd</th>\n",
       "      <th>SESg_0_cd</th>\n",
       "      <th>r4ag_0_cd</th>\n",
       "      <th>nonillicit_flag</th>\n",
       "      <th>primsev_cd_1</th>\n",
       "      <th>primsev_cd_2</th>\n",
       "      <th>primsev_cd_3</th>\n",
       "      <th>primsev_cd_4</th>\n",
       "      <th>primsev_cd_5</th>\n",
       "      <th>primsev_cd_6</th>\n",
       "      <th>B2a_0g</th>\n",
       "      <th>SUDSy_0</th>\n",
       "      <th>Address</th>\n",
       "      <th>lat</th>\n",
       "      <th>lng</th>\n",
       "      <th>Geo_FIPS</th>\n",
       "      <th>murder_numg</th>\n",
       "      <th>%_U18g</th>\n",
       "      <th>%_female_householdg</th>\n",
       "      <th>%_unemployedg</th>\n",
       "      <th>%_public_assistanceg</th>\n",
       "      <th>%_povertyg</th>\n",
       "    </tr>\n",
       "  </thead>\n",
       "  <tbody>\n",
       "    <tr>\n",
       "      <th>0</th>\n",
       "      <td>0</td>\n",
       "      <td>0</td>\n",
       "      <td>1</td>\n",
       "      <td>857</td>\n",
       "      <td>OH</td>\n",
       "      <td>Cleveland</td>\n",
       "      <td>1276 West Third St. #400</td>\n",
       "      <td>2005</td>\n",
       "      <td>365</td>\n",
       "      <td>0</td>\n",
       "      <td>0</td>\n",
       "      <td>0</td>\n",
       "      <td>0</td>\n",
       "      <td>0</td>\n",
       "      <td>2</td>\n",
       "      <td>0</td>\n",
       "      <td>0</td>\n",
       "      <td>1</td>\n",
       "      <td>1</td>\n",
       "      <td>1</td>\n",
       "      <td>1</td>\n",
       "      <td>0</td>\n",
       "      <td>1</td>\n",
       "      <td>2</td>\n",
       "      <td>0</td>\n",
       "      <td>1</td>\n",
       "      <td>1</td>\n",
       "      <td>1</td>\n",
       "      <td>0</td>\n",
       "      <td>0</td>\n",
       "      <td>0</td>\n",
       "      <td>0</td>\n",
       "      <td>0</td>\n",
       "      <td>0</td>\n",
       "      <td>0</td>\n",
       "      <td>1276 West Third St. #400, Cleveland, OH</td>\n",
       "      <td>41.501028</td>\n",
       "      <td>-81.697772</td>\n",
       "      <td>39035.0</td>\n",
       "      <td>0.0</td>\n",
       "      <td>NaN</td>\n",
       "      <td>NaN</td>\n",
       "      <td>NaN</td>\n",
       "      <td>NaN</td>\n",
       "      <td>NaN</td>\n",
       "    </tr>\n",
       "    <tr>\n",
       "      <th>1</th>\n",
       "      <td>1</td>\n",
       "      <td>1</td>\n",
       "      <td>2</td>\n",
       "      <td>929</td>\n",
       "      <td>OH</td>\n",
       "      <td>Cleveland</td>\n",
       "      <td>1276 West Third St. #400</td>\n",
       "      <td>2006</td>\n",
       "      <td>354</td>\n",
       "      <td>0</td>\n",
       "      <td>0</td>\n",
       "      <td>0</td>\n",
       "      <td>0</td>\n",
       "      <td>0</td>\n",
       "      <td>1</td>\n",
       "      <td>0</td>\n",
       "      <td>1</td>\n",
       "      <td>0</td>\n",
       "      <td>1</td>\n",
       "      <td>0</td>\n",
       "      <td>1</td>\n",
       "      <td>1</td>\n",
       "      <td>0</td>\n",
       "      <td>1</td>\n",
       "      <td>0</td>\n",
       "      <td>2</td>\n",
       "      <td>1</td>\n",
       "      <td>1</td>\n",
       "      <td>0</td>\n",
       "      <td>0</td>\n",
       "      <td>0</td>\n",
       "      <td>0</td>\n",
       "      <td>0</td>\n",
       "      <td>0</td>\n",
       "      <td>3</td>\n",
       "      <td>1276 West Third St. #400, Cleveland, OH</td>\n",
       "      <td>41.501028</td>\n",
       "      <td>-81.697772</td>\n",
       "      <td>39035.0</td>\n",
       "      <td>0.0</td>\n",
       "      <td>1.0</td>\n",
       "      <td>1.0</td>\n",
       "      <td>1.0</td>\n",
       "      <td>1.0</td>\n",
       "      <td>0.0</td>\n",
       "    </tr>\n",
       "    <tr>\n",
       "      <th>2</th>\n",
       "      <td>2</td>\n",
       "      <td>2</td>\n",
       "      <td>3</td>\n",
       "      <td>951</td>\n",
       "      <td>OH</td>\n",
       "      <td>Cleveland</td>\n",
       "      <td>1276 West Third St. #400</td>\n",
       "      <td>2006</td>\n",
       "      <td>365</td>\n",
       "      <td>0</td>\n",
       "      <td>0</td>\n",
       "      <td>0</td>\n",
       "      <td>0</td>\n",
       "      <td>0</td>\n",
       "      <td>0</td>\n",
       "      <td>0</td>\n",
       "      <td>1</td>\n",
       "      <td>0</td>\n",
       "      <td>0</td>\n",
       "      <td>0</td>\n",
       "      <td>0</td>\n",
       "      <td>1</td>\n",
       "      <td>0</td>\n",
       "      <td>1</td>\n",
       "      <td>0</td>\n",
       "      <td>2</td>\n",
       "      <td>1</td>\n",
       "      <td>0</td>\n",
       "      <td>0</td>\n",
       "      <td>1</td>\n",
       "      <td>0</td>\n",
       "      <td>0</td>\n",
       "      <td>0</td>\n",
       "      <td>0</td>\n",
       "      <td>2</td>\n",
       "      <td>1276 West Third St. #400, Cleveland, OH</td>\n",
       "      <td>41.501028</td>\n",
       "      <td>-81.697772</td>\n",
       "      <td>39035.0</td>\n",
       "      <td>0.0</td>\n",
       "      <td>1.0</td>\n",
       "      <td>1.0</td>\n",
       "      <td>1.0</td>\n",
       "      <td>1.0</td>\n",
       "      <td>0.0</td>\n",
       "    </tr>\n",
       "    <tr>\n",
       "      <th>3</th>\n",
       "      <td>3</td>\n",
       "      <td>3</td>\n",
       "      <td>4</td>\n",
       "      <td>1032</td>\n",
       "      <td>OH</td>\n",
       "      <td>Cleveland</td>\n",
       "      <td>1276 West Third St. #400</td>\n",
       "      <td>2006</td>\n",
       "      <td>365</td>\n",
       "      <td>0</td>\n",
       "      <td>0</td>\n",
       "      <td>0</td>\n",
       "      <td>0</td>\n",
       "      <td>0</td>\n",
       "      <td>2</td>\n",
       "      <td>0</td>\n",
       "      <td>1</td>\n",
       "      <td>1</td>\n",
       "      <td>1</td>\n",
       "      <td>1</td>\n",
       "      <td>1</td>\n",
       "      <td>0</td>\n",
       "      <td>2</td>\n",
       "      <td>1</td>\n",
       "      <td>0</td>\n",
       "      <td>2</td>\n",
       "      <td>1</td>\n",
       "      <td>0</td>\n",
       "      <td>0</td>\n",
       "      <td>1</td>\n",
       "      <td>0</td>\n",
       "      <td>0</td>\n",
       "      <td>0</td>\n",
       "      <td>0</td>\n",
       "      <td>2</td>\n",
       "      <td>1276 West Third St. #400, Cleveland, OH</td>\n",
       "      <td>41.501028</td>\n",
       "      <td>-81.697772</td>\n",
       "      <td>39035.0</td>\n",
       "      <td>0.0</td>\n",
       "      <td>1.0</td>\n",
       "      <td>1.0</td>\n",
       "      <td>1.0</td>\n",
       "      <td>1.0</td>\n",
       "      <td>0.0</td>\n",
       "    </tr>\n",
       "    <tr>\n",
       "      <th>4</th>\n",
       "      <td>4</td>\n",
       "      <td>4</td>\n",
       "      <td>5</td>\n",
       "      <td>1039</td>\n",
       "      <td>OH</td>\n",
       "      <td>Cleveland</td>\n",
       "      <td>1276 West Third St. #400</td>\n",
       "      <td>2004</td>\n",
       "      <td>365</td>\n",
       "      <td>0</td>\n",
       "      <td>0</td>\n",
       "      <td>0</td>\n",
       "      <td>0</td>\n",
       "      <td>0</td>\n",
       "      <td>0</td>\n",
       "      <td>0</td>\n",
       "      <td>0</td>\n",
       "      <td>1</td>\n",
       "      <td>0</td>\n",
       "      <td>0</td>\n",
       "      <td>1</td>\n",
       "      <td>1</td>\n",
       "      <td>2</td>\n",
       "      <td>1</td>\n",
       "      <td>0</td>\n",
       "      <td>2</td>\n",
       "      <td>0</td>\n",
       "      <td>0</td>\n",
       "      <td>1</td>\n",
       "      <td>0</td>\n",
       "      <td>0</td>\n",
       "      <td>0</td>\n",
       "      <td>0</td>\n",
       "      <td>0</td>\n",
       "      <td>0</td>\n",
       "      <td>1276 West Third St. #400, Cleveland, OH</td>\n",
       "      <td>41.501028</td>\n",
       "      <td>-81.697772</td>\n",
       "      <td>39035.0</td>\n",
       "      <td>0.0</td>\n",
       "      <td>NaN</td>\n",
       "      <td>NaN</td>\n",
       "      <td>NaN</td>\n",
       "      <td>NaN</td>\n",
       "      <td>NaN</td>\n",
       "    </tr>\n",
       "  </tbody>\n",
       "</table>\n",
       "</div>"
      ],
      "text/plain": [
       "   Unnamed: 0  Unnamed: 0.1  Unnamed: 0.1.1    ID State       City  \\\n",
       "0           0             0               1   857    OH  Cleveland   \n",
       "1           1             1               2   929    OH  Cleveland   \n",
       "2           2             2               3   951    OH  Cleveland   \n",
       "3           3             3               4  1032    OH  Cleveland   \n",
       "4           4             4               5  1039    OH  Cleveland   \n",
       "\n",
       "                    agyaddr  xobsyr_0  Illicit_Days5  Illicit_Cens5  \\\n",
       "0  1276 West Third St. #400      2005            365              0   \n",
       "1  1276 West Third St. #400      2006            354              0   \n",
       "2  1276 West Third St. #400      2006            365              0   \n",
       "3  1276 West Third St. #400      2006            365              0   \n",
       "4  1276 West Third St. #400      2004            365              0   \n",
       "\n",
       "   female_cd  nonwhite_cd  unemplmt_cd  prsatx_cd  gvsg_cd  CWSg_0_cd  \\\n",
       "0          0            0            0          0        2          0   \n",
       "1          0            0            0          0        1          0   \n",
       "2          0            0            0          0        0          0   \n",
       "3          0            0            0          0        2          0   \n",
       "4          0            0            0          0        0          0   \n",
       "\n",
       "   srprobg_cd  dssg_0_cd  epsg_0_cd  adhdg_0_cd  cdsg_0_cd  cjsig_0_cd  \\\n",
       "0           0          1          1           1          1           0   \n",
       "1           1          0          1           0          1           1   \n",
       "2           1          0          0           0          0           1   \n",
       "3           1          1          1           1          1           0   \n",
       "4           0          1          0           0          1           1   \n",
       "\n",
       "   lrig_0_cd  srig_0_cd  SESg_0_cd  r4ag_0_cd  nonillicit_flag  primsev_cd_1  \\\n",
       "0          1          2          0          1                1             1   \n",
       "1          0          1          0          2                1             1   \n",
       "2          0          1          0          2                1             0   \n",
       "3          2          1          0          2                1             0   \n",
       "4          2          1          0          2                0             0   \n",
       "\n",
       "   primsev_cd_2  primsev_cd_3  primsev_cd_4  primsev_cd_5  primsev_cd_6  \\\n",
       "0             0             0             0             0             0   \n",
       "1             0             0             0             0             0   \n",
       "2             0             1             0             0             0   \n",
       "3             0             1             0             0             0   \n",
       "4             1             0             0             0             0   \n",
       "\n",
       "   B2a_0g  SUDSy_0                                  Address        lat  \\\n",
       "0       0        0  1276 West Third St. #400, Cleveland, OH  41.501028   \n",
       "1       0        3  1276 West Third St. #400, Cleveland, OH  41.501028   \n",
       "2       0        2  1276 West Third St. #400, Cleveland, OH  41.501028   \n",
       "3       0        2  1276 West Third St. #400, Cleveland, OH  41.501028   \n",
       "4       0        0  1276 West Third St. #400, Cleveland, OH  41.501028   \n",
       "\n",
       "         lng  Geo_FIPS  murder_numg  %_U18g  %_female_householdg  \\\n",
       "0 -81.697772   39035.0          0.0     NaN                  NaN   \n",
       "1 -81.697772   39035.0          0.0     1.0                  1.0   \n",
       "2 -81.697772   39035.0          0.0     1.0                  1.0   \n",
       "3 -81.697772   39035.0          0.0     1.0                  1.0   \n",
       "4 -81.697772   39035.0          0.0     NaN                  NaN   \n",
       "\n",
       "   %_unemployedg  %_public_assistanceg  %_povertyg  \n",
       "0            NaN                   NaN         NaN  \n",
       "1            1.0                   1.0         0.0  \n",
       "2            1.0                   1.0         0.0  \n",
       "3            1.0                   1.0         0.0  \n",
       "4            NaN                   NaN         NaN  "
      ]
     },
     "execution_count": 167,
     "metadata": {},
     "output_type": "execute_result"
    }
   ],
   "source": [
    "import pandas as pd\n",
    "pd.set_option('display.max_rows', 500)\n",
    "pd.set_option('display.max_columns', 500)\n",
    "import csv\n",
    "\n",
    "df = pd.read_csv('data/data_superset.csv')\n",
    "df.drop(columns=['SDSl_0'], inplace=True)\n",
    "df.head()"
   ]
  },
  {
   "cell_type": "code",
   "execution_count": 168,
   "metadata": {},
   "outputs": [
    {
     "data": {
      "text/plain": [
       "\"df.dropna(subset=['murder_numg','%_U18g'], inplace=True)\\ndf.shape\""
      ]
     },
     "execution_count": 168,
     "metadata": {},
     "output_type": "execute_result"
    }
   ],
   "source": [
    "# subset to patients who have county level murder and socioeconomic data available\n",
    "\"\"\"df.dropna(subset=['murder_numg','%_U18g'], inplace=True)\n",
    "df.shape\"\"\""
   ]
  },
  {
   "cell_type": "code",
   "execution_count": 169,
   "metadata": {},
   "outputs": [
    {
     "data": {
      "text/plain": [
       "(21264, 26)"
      ]
     },
     "execution_count": 169,
     "metadata": {},
     "output_type": "execute_result"
    }
   ],
   "source": [
    "# drop unnecessary columns\n",
    "cols_to_drop = ['Address','lat','lng','Geo_FIPS','xobsyr_0','Unnamed: 0','Unnamed: 0.1','Unnamed: 0.1.1',\n",
    "                'ID','State','City','agyaddr','srprobg_cd']\n",
    "\n",
    "# uncomment to get CONTROL statistics\n",
    "cols_to_drop = cols_to_drop + ['%_U18g','%_female_householdg','%_unemployedg','%_public_assistanceg','%_povertyg','murder_numg']\n",
    "\n",
    "df.drop(columns=cols_to_drop, inplace=True)\n",
    "df = df.astype(int)\n",
    "df.shape"
   ]
  },
  {
   "cell_type": "code",
   "execution_count": 170,
   "metadata": {},
   "outputs": [],
   "source": [
    "# df = df[df.nonillicit_flag == 0] # subset to only the illicit cases\n",
    "df.drop(columns=['nonillicit_flag'], inplace=True) # if not used to subset, remove feature since its redundant"
   ]
  },
  {
   "cell_type": "code",
   "execution_count": 171,
   "metadata": {},
   "outputs": [
    {
     "data": {
      "text/plain": [
       "(21264, 25)"
      ]
     },
     "execution_count": 171,
     "metadata": {},
     "output_type": "execute_result"
    }
   ],
   "source": [
    "df.shape"
   ]
  },
  {
   "cell_type": "code",
   "execution_count": 172,
   "metadata": {},
   "outputs": [
    {
     "data": {
      "text/html": [
       "<div>\n",
       "<style scoped>\n",
       "    .dataframe tbody tr th:only-of-type {\n",
       "        vertical-align: middle;\n",
       "    }\n",
       "\n",
       "    .dataframe tbody tr th {\n",
       "        vertical-align: top;\n",
       "    }\n",
       "\n",
       "    .dataframe thead th {\n",
       "        text-align: right;\n",
       "    }\n",
       "</style>\n",
       "<table border=\"1\" class=\"dataframe\">\n",
       "  <thead>\n",
       "    <tr style=\"text-align: right;\">\n",
       "      <th></th>\n",
       "      <th>Illicit_Days5</th>\n",
       "      <th>Illicit_Cens5</th>\n",
       "      <th>female_cd</th>\n",
       "      <th>nonwhite_cd</th>\n",
       "      <th>unemplmt_cd</th>\n",
       "      <th>prsatx_cd</th>\n",
       "      <th>gvsg_cd</th>\n",
       "      <th>CWSg_0_cd</th>\n",
       "      <th>dssg_0_cd</th>\n",
       "      <th>epsg_0_cd</th>\n",
       "      <th>adhdg_0_cd</th>\n",
       "      <th>cdsg_0_cd</th>\n",
       "      <th>cjsig_0_cd</th>\n",
       "      <th>lrig_0_cd</th>\n",
       "      <th>srig_0_cd</th>\n",
       "      <th>SESg_0_cd</th>\n",
       "      <th>r4ag_0_cd</th>\n",
       "      <th>primsev_cd_1</th>\n",
       "      <th>primsev_cd_2</th>\n",
       "      <th>primsev_cd_3</th>\n",
       "      <th>primsev_cd_4</th>\n",
       "      <th>primsev_cd_5</th>\n",
       "      <th>primsev_cd_6</th>\n",
       "      <th>B2a_0g</th>\n",
       "      <th>SUDSy_0</th>\n",
       "    </tr>\n",
       "  </thead>\n",
       "  <tbody>\n",
       "    <tr>\n",
       "      <th>0</th>\n",
       "      <td>365</td>\n",
       "      <td>0</td>\n",
       "      <td>0</td>\n",
       "      <td>0</td>\n",
       "      <td>0</td>\n",
       "      <td>0</td>\n",
       "      <td>2</td>\n",
       "      <td>0</td>\n",
       "      <td>1</td>\n",
       "      <td>1</td>\n",
       "      <td>1</td>\n",
       "      <td>1</td>\n",
       "      <td>0</td>\n",
       "      <td>1</td>\n",
       "      <td>2</td>\n",
       "      <td>0</td>\n",
       "      <td>1</td>\n",
       "      <td>1</td>\n",
       "      <td>0</td>\n",
       "      <td>0</td>\n",
       "      <td>0</td>\n",
       "      <td>0</td>\n",
       "      <td>0</td>\n",
       "      <td>0</td>\n",
       "      <td>0</td>\n",
       "    </tr>\n",
       "    <tr>\n",
       "      <th>1</th>\n",
       "      <td>354</td>\n",
       "      <td>0</td>\n",
       "      <td>0</td>\n",
       "      <td>0</td>\n",
       "      <td>0</td>\n",
       "      <td>0</td>\n",
       "      <td>1</td>\n",
       "      <td>0</td>\n",
       "      <td>0</td>\n",
       "      <td>1</td>\n",
       "      <td>0</td>\n",
       "      <td>1</td>\n",
       "      <td>1</td>\n",
       "      <td>0</td>\n",
       "      <td>1</td>\n",
       "      <td>0</td>\n",
       "      <td>2</td>\n",
       "      <td>1</td>\n",
       "      <td>0</td>\n",
       "      <td>0</td>\n",
       "      <td>0</td>\n",
       "      <td>0</td>\n",
       "      <td>0</td>\n",
       "      <td>0</td>\n",
       "      <td>3</td>\n",
       "    </tr>\n",
       "    <tr>\n",
       "      <th>2</th>\n",
       "      <td>365</td>\n",
       "      <td>0</td>\n",
       "      <td>0</td>\n",
       "      <td>0</td>\n",
       "      <td>0</td>\n",
       "      <td>0</td>\n",
       "      <td>0</td>\n",
       "      <td>0</td>\n",
       "      <td>0</td>\n",
       "      <td>0</td>\n",
       "      <td>0</td>\n",
       "      <td>0</td>\n",
       "      <td>1</td>\n",
       "      <td>0</td>\n",
       "      <td>1</td>\n",
       "      <td>0</td>\n",
       "      <td>2</td>\n",
       "      <td>0</td>\n",
       "      <td>0</td>\n",
       "      <td>1</td>\n",
       "      <td>0</td>\n",
       "      <td>0</td>\n",
       "      <td>0</td>\n",
       "      <td>0</td>\n",
       "      <td>2</td>\n",
       "    </tr>\n",
       "    <tr>\n",
       "      <th>3</th>\n",
       "      <td>365</td>\n",
       "      <td>0</td>\n",
       "      <td>0</td>\n",
       "      <td>0</td>\n",
       "      <td>0</td>\n",
       "      <td>0</td>\n",
       "      <td>2</td>\n",
       "      <td>0</td>\n",
       "      <td>1</td>\n",
       "      <td>1</td>\n",
       "      <td>1</td>\n",
       "      <td>1</td>\n",
       "      <td>0</td>\n",
       "      <td>2</td>\n",
       "      <td>1</td>\n",
       "      <td>0</td>\n",
       "      <td>2</td>\n",
       "      <td>0</td>\n",
       "      <td>0</td>\n",
       "      <td>1</td>\n",
       "      <td>0</td>\n",
       "      <td>0</td>\n",
       "      <td>0</td>\n",
       "      <td>0</td>\n",
       "      <td>2</td>\n",
       "    </tr>\n",
       "    <tr>\n",
       "      <th>4</th>\n",
       "      <td>365</td>\n",
       "      <td>0</td>\n",
       "      <td>0</td>\n",
       "      <td>0</td>\n",
       "      <td>0</td>\n",
       "      <td>0</td>\n",
       "      <td>0</td>\n",
       "      <td>0</td>\n",
       "      <td>1</td>\n",
       "      <td>0</td>\n",
       "      <td>0</td>\n",
       "      <td>1</td>\n",
       "      <td>1</td>\n",
       "      <td>2</td>\n",
       "      <td>1</td>\n",
       "      <td>0</td>\n",
       "      <td>2</td>\n",
       "      <td>0</td>\n",
       "      <td>1</td>\n",
       "      <td>0</td>\n",
       "      <td>0</td>\n",
       "      <td>0</td>\n",
       "      <td>0</td>\n",
       "      <td>0</td>\n",
       "      <td>0</td>\n",
       "    </tr>\n",
       "  </tbody>\n",
       "</table>\n",
       "</div>"
      ],
      "text/plain": [
       "   Illicit_Days5  Illicit_Cens5  female_cd  nonwhite_cd  unemplmt_cd  \\\n",
       "0            365              0          0            0            0   \n",
       "1            354              0          0            0            0   \n",
       "2            365              0          0            0            0   \n",
       "3            365              0          0            0            0   \n",
       "4            365              0          0            0            0   \n",
       "\n",
       "   prsatx_cd  gvsg_cd  CWSg_0_cd  dssg_0_cd  epsg_0_cd  adhdg_0_cd  cdsg_0_cd  \\\n",
       "0          0        2          0          1          1           1          1   \n",
       "1          0        1          0          0          1           0          1   \n",
       "2          0        0          0          0          0           0          0   \n",
       "3          0        2          0          1          1           1          1   \n",
       "4          0        0          0          1          0           0          1   \n",
       "\n",
       "   cjsig_0_cd  lrig_0_cd  srig_0_cd  SESg_0_cd  r4ag_0_cd  primsev_cd_1  \\\n",
       "0           0          1          2          0          1             1   \n",
       "1           1          0          1          0          2             1   \n",
       "2           1          0          1          0          2             0   \n",
       "3           0          2          1          0          2             0   \n",
       "4           1          2          1          0          2             0   \n",
       "\n",
       "   primsev_cd_2  primsev_cd_3  primsev_cd_4  primsev_cd_5  primsev_cd_6  \\\n",
       "0             0             0             0             0             0   \n",
       "1             0             0             0             0             0   \n",
       "2             0             1             0             0             0   \n",
       "3             0             1             0             0             0   \n",
       "4             1             0             0             0             0   \n",
       "\n",
       "   B2a_0g  SUDSy_0  \n",
       "0       0        0  \n",
       "1       0        3  \n",
       "2       0        2  \n",
       "3       0        2  \n",
       "4       0        0  "
      ]
     },
     "execution_count": 172,
     "metadata": {},
     "output_type": "execute_result"
    }
   ],
   "source": [
    "df.head()"
   ]
  },
  {
   "cell_type": "markdown",
   "metadata": {},
   "source": [
    "Full Population Survival Analysis"
   ]
  },
  {
   "cell_type": "code",
   "execution_count": 173,
   "metadata": {},
   "outputs": [
    {
     "name": "stdout",
     "output_type": "stream",
     "text": [
      "(21264, 23) (21264,)\n"
     ]
    }
   ],
   "source": [
    "from sklearn.model_selection import train_test_split\n",
    "from sksurv.util import Surv\n",
    "\n",
    "predictor_var = 'Illicit_Days5'\n",
    "censoring_var = 'Illicit_Cens5'\n",
    "\n",
    "X = df.copy()\n",
    "Y = X[[censoring_var, predictor_var]]\n",
    "X.drop(columns=[censoring_var, predictor_var], inplace=True)\n",
    "y = Surv.from_arrays(Y[censoring_var], Y[predictor_var]) # structured array to ensure correct censoring\n",
    "\n",
    "print(X.shape, y.shape)"
   ]
  },
  {
   "cell_type": "code",
   "execution_count": 174,
   "metadata": {},
   "outputs": [
    {
     "name": "stdout",
     "output_type": "stream",
     "text": [
      "RF Boosted score: 0.6712556009994965\n",
      "(21264, 23) (21264,)\n",
      "RF score: 0.6642500484431939\n",
      "Lasso score: 0.6787117010845733\n",
      "CPU times: user 44min 9s, sys: 15.6 s, total: 44min 25s\n",
      "Wall time: 45min 28s\n"
     ]
    }
   ],
   "source": [
    "%%time\n",
    "full_concordance, gbsa, rsf, rcr = run_models(X, y, 'ALL')"
   ]
  },
  {
   "cell_type": "code",
   "execution_count": 175,
   "metadata": {},
   "outputs": [
    {
     "data": {
      "image/png": "[encoded data removed]",
      "text/plain": [
       "<Figure size 432x288 with 1 Axes>"
      ]
     },
     "metadata": {
      "needs_background": "light"
     },
     "output_type": "display_data"
    }
   ],
   "source": [
    "get_survival_graph(rsf, rcr, X, Y, 'Survival: All Severity Levels','graphs/survival_all.png')"
   ]
  },
  {
   "cell_type": "markdown",
   "metadata": {},
   "source": [
    "Subclinical Severity Survival Analysis"
   ]
  },
  {
   "cell_type": "code",
   "execution_count": 176,
   "metadata": {},
   "outputs": [
    {
     "name": "stdout",
     "output_type": "stream",
     "text": [
      "(6868, 22) (6868,)\n"
     ]
    },
    {
     "name": "stderr",
     "output_type": "stream",
     "text": [
      "//anaconda3/lib/python3.7/site-packages/pandas/core/frame.py:4097: SettingWithCopyWarning: \n",
      "A value is trying to be set on a copy of a slice from a DataFrame\n",
      "\n",
      "See the caveats in the documentation: http://pandas.pydata.org/pandas-docs/stable/user_guide/indexing.html#returning-a-view-versus-a-copy\n",
      "  errors=errors,\n"
     ]
    }
   ],
   "source": [
    "X = df[df.SUDSy_0 < 2]\n",
    "Y = X[[censoring_var, predictor_var]]\n",
    "X.drop(columns=[censoring_var, predictor_var, 'SUDSy_0'], inplace=True)\n",
    "\n",
    "y = Surv.from_arrays(Y[censoring_var], Y[predictor_var]) # structured array to ensure correct censoring\n",
    "\n",
    "print(X.shape, y.shape)"
   ]
  },
  {
   "cell_type": "code",
   "execution_count": 177,
   "metadata": {},
   "outputs": [
    {
     "name": "stdout",
     "output_type": "stream",
     "text": [
      "RF Boosted score: 0.6466254178507088\n",
      "(6868, 22) (6868,)\n",
      "RF score: 0.637488979255762\n",
      "Lasso score: 0.6693730726704226\n",
      "CPU times: user 4min 20s, sys: 1.4 s, total: 4min 21s\n",
      "Wall time: 4min 21s\n"
     ]
    }
   ],
   "source": [
    "%%time\n",
    "subclinical_concordance, gbsa, rsf, rcr = run_models(X, y, 'SUB')"
   ]
  },
  {
   "cell_type": "code",
   "execution_count": 178,
   "metadata": {},
   "outputs": [
    {
     "data": {
      "image/png": "[encoded data removed]",
      "text/plain": [
       "<Figure size 432x288 with 1 Axes>"
      ]
     },
     "metadata": {
      "needs_background": "light"
     },
     "output_type": "display_data"
    }
   ],
   "source": [
    "get_survival_graph(rsf, rcr, X, Y, 'Survival: Subclinical Severity', 'graphs/survival_subclinical.png')"
   ]
  },
  {
   "cell_type": "code",
   "execution_count": 179,
   "metadata": {},
   "outputs": [],
   "source": [
    "subclinical_feature_importance_rf, subclinical_feature_importance_lasso = \\\n",
    "                                        get_feature_importance(X.columns, gbsa, rcr, 'SUB')"
   ]
  },
  {
   "cell_type": "raw",
   "metadata": {},
   "source": [
    "Mild/Moderate Severity Survival Analysis"
   ]
  },
  {
   "cell_type": "code",
   "execution_count": 180,
   "metadata": {},
   "outputs": [
    {
     "name": "stdout",
     "output_type": "stream",
     "text": [
      "(6753, 22) (6753,)\n"
     ]
    }
   ],
   "source": [
    "X = df[df.SUDSy_0 >= 2]\n",
    "X = X[X.SUDSy_0 <= 5]\n",
    "Y = X[[censoring_var, predictor_var]]\n",
    "X.drop(columns=[censoring_var, predictor_var, 'SUDSy_0'], inplace=True)\n",
    "\n",
    "y = Surv.from_arrays(Y[censoring_var], Y[predictor_var]) # structured array to ensure correct censoring\n",
    "\n",
    "print(X.shape, y.shape)"
   ]
  },
  {
   "cell_type": "code",
   "execution_count": null,
   "metadata": {},
   "outputs": [],
   "source": [
    "%%time\n",
    "mild_concordance, gbsa, rsf, rcr = run_models(X, y, 'MILD')"
   ]
  },
  {
   "cell_type": "code",
   "execution_count": null,
   "metadata": {},
   "outputs": [],
   "source": [
    "get_survival_graph(rsf, rcr, X, Y, 'Survival: Mild/Moderate', 'graphs/survival_mild.png')"
   ]
  },
  {
   "cell_type": "code",
   "execution_count": null,
   "metadata": {},
   "outputs": [],
   "source": [
    "mild_feature_importance_rf, mild_feature_importance_lasso = get_feature_importance(X.columns, gbsa, rcr, 'MILD')"
   ]
  },
  {
   "cell_type": "markdown",
   "metadata": {},
   "source": [
    "Severe Severity Survival Analysis"
   ]
  },
  {
   "cell_type": "code",
   "execution_count": null,
   "metadata": {},
   "outputs": [],
   "source": [
    "X = df[df.SUDSy_0 > 5]\n",
    "Y = X[[censoring_var, predictor_var]]\n",
    "X.drop(columns=[censoring_var, predictor_var, 'SUDSy_0'], inplace=True)\n",
    "\n",
    "y = Surv.from_arrays(Y[censoring_var], Y[predictor_var]) # structured array to ensure correct censoring\n",
    "\n",
    "print(X.shape, y.shape)"
   ]
  },
  {
   "cell_type": "code",
   "execution_count": null,
   "metadata": {},
   "outputs": [],
   "source": [
    "%%time\n",
    "severe_concordance, gbsa, rsf, rcr = run_models(X, y, 'SEVERE')"
   ]
  },
  {
   "cell_type": "code",
   "execution_count": null,
   "metadata": {},
   "outputs": [],
   "source": [
    "get_survival_graph(rsf, rcr, X, Y, 'Survival: Severe', 'graphs/survival_severe.png')"
   ]
  },
  {
   "cell_type": "code",
   "execution_count": null,
   "metadata": {},
   "outputs": [],
   "source": [
    "severe_feature_importance_rf, severe_feature_importance_lasso = get_feature_importance(X.columns, gbsa, rcr, 'SEVERE')"
   ]
  },
  {
   "cell_type": "markdown",
   "metadata": {},
   "source": [
    "Overall Statistics"
   ]
  },
  {
   "cell_type": "code",
   "execution_count": null,
   "metadata": {},
   "outputs": [],
   "source": [
    "overall_concordance = pd.concat([subclinical_concordance, mild_concordance['MILD'], severe_concordance['SEVERE'],  \n",
    "                                 full_concordance['ALL']], axis=1)\n",
    "pd.DataFrame(data=overall_concordance)"
   ]
  },
  {
   "cell_type": "code",
   "execution_count": null,
   "metadata": {},
   "outputs": [],
   "source": [
    "overall_feature_importance_lasso = pd.merge(subclinical_feature_importance_lasso, \\\n",
    "                                            mild_feature_importance_lasso, on='Feature', how='outer')\n",
    "overall_feature_importance_lasso = pd.merge(overall_feature_importance_lasso, \\\n",
    "                                            severe_feature_importance_lasso, on='Feature', how='outer')\n",
    "overall_feature_importance_lasso.fillna(0, inplace=True)\n",
    "display_side_by_side(overall_feature_importance_lasso, 2)"
   ]
  },
  {
   "cell_type": "code",
   "execution_count": null,
   "metadata": {},
   "outputs": [],
   "source": [
    "# feature importance for lasso across all ages\n",
    "plt.rcParams[\"font.weight\"] = \"bold\"\n",
    "\n",
    "df = pd.DataFrame({'SUB': overall_feature_importance_lasso['SUB'].tolist(),\n",
    "                   'MILD': overall_feature_importance_lasso['MILD'].tolist(),\n",
    "                   'SEVERE': overall_feature_importance_lasso['SEVERE'].tolist()},\n",
    "                  index=overall_feature_importance_lasso['Feature'].tolist())\n",
    "df.sort_values(by=['SUB','MILD','SEVERE'], ascending=False, inplace=True)\n",
    "ax = df.plot.bar(rot=50, figsize=(12, 12))\n",
    "ax.grid()\n",
    "ax.set_title('Feature Importance: Lasso')\n",
    "fig = ax.get_figure()\n",
    "    \n",
    "fig.savefig('graphs/feature_importance_lasso.png', bbox_inches='tight')"
   ]
  },
  {
   "cell_type": "code",
   "execution_count": null,
   "metadata": {},
   "outputs": [],
   "source": [
    "overall_feature_importance_rf = pd.merge(subclinical_feature_importance_rf, mild_feature_importance_rf, on='Feature', how='outer')\n",
    "overall_feature_importance_rf = pd.merge(overall_feature_importance_rf, severe_feature_importance_rf, on='Feature', how='outer')\n",
    "overall_feature_importance_rf.fillna(0, inplace=True)\n",
    "display_side_by_side(overall_feature_importance_rf, 4)"
   ]
  },
  {
   "cell_type": "code",
   "execution_count": null,
   "metadata": {},
   "outputs": [],
   "source": [
    "# feature importance for rf across all ages\n",
    "df = pd.DataFrame({'SUB': overall_feature_importance_rf['SUB'].tolist(),\n",
    "                   'MILD': overall_feature_importance_rf['MILD'].tolist(),\n",
    "                   'SEVERE': overall_feature_importance_rf['SEVERE'].tolist()},\n",
    "                  index=overall_feature_importance_rf['Feature'].tolist())\n",
    "df.sort_values(by=['SUB','MILD','SEVERE'], ascending=False, inplace=True)\n",
    "ax = df.plot.bar(rot=50, figsize=(12, 12))\n",
    "ax.grid()\n",
    "ax.set_title('Feature Importance: RF')\n",
    "fig = ax.get_figure()\n",
    "    \n",
    "fig.savefig('graphs/feature_importance_rf.png', bbox_inches='tight')"
   ]
  },
  {
   "cell_type": "code",
   "execution_count": null,
   "metadata": {},
   "outputs": [],
   "source": [
    "# features in top 10 of both models across all ages\n",
    "feature_importance_intersection = np.intersect1d(overall_feature_importance_rf['Feature'], \n",
    "                                                 overall_feature_importance_lasso['Feature'])\n",
    "print('Common Features:', *list(feature_importance_intersection), sep =', ')"
   ]
  },
  {
   "cell_type": "code",
   "execution_count": null,
   "metadata": {},
   "outputs": [],
   "source": [
    "# print out total notebook execution time\n",
    "total_seconds = int(time.time() - start_time)\n",
    "minutes = total_seconds // 60\n",
    "seconds = total_seconds % 60\n",
    "print(\"--- \" + str(minutes) + \" minutes \" + str(seconds) + \" seconds ---\")"
   ]
  },
  {
   "cell_type": "code",
   "execution_count": null,
   "metadata": {},
   "outputs": [],
   "source": []
  }
 ],
 "metadata": {
  "kernelspec": {
   "display_name": "Python 3",
   "language": "python",
   "name": "python3"
  },
  "language_info": {
   "codemirror_mode": {
    "name": "ipython",
    "version": 3
   },
   "file_extension": ".py",
   "mimetype": "text/x-python",
   "name": "python",
   "nbconvert_exporter": "python",
   "pygments_lexer": "ipython3",
   "version": "3.7.3"
  }
 },
 "nbformat": 4,
 "nbformat_minor": 2
}
