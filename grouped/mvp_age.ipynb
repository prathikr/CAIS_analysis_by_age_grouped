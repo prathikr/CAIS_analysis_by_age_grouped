{
 "cells": [
  {
   "cell_type": "code",
   "execution_count": 299,
   "metadata": {},
   "outputs": [],
   "source": [
    "# store start time to get execution time of entire script\n",
    "import time\n",
    "start_time = time.time()"
   ]
  },
  {
   "cell_type": "code",
   "execution_count": 300,
   "metadata": {},
   "outputs": [],
   "source": [
    "# helper functions for displaying table data\n",
    "\n",
    "import numpy as np\n",
    "from IPython.display import display_html\n",
    "\n",
    "# n is the number of columns to display data in\n",
    "def display_side_by_side(series_obj, n):\n",
    "    df = pd.DataFrame(series_obj)\n",
    "    partition = int(round(len(df) / n))\n",
    "    lower_bound = 0\n",
    "    upper_bound = partition\n",
    "    args = []\n",
    "    for i in range(n):\n",
    "        args.append(df[lower_bound:upper_bound])\n",
    "        lower_bound += partition\n",
    "        upper_bound += partition\n",
    "    helper(args)\n",
    "\n",
    "def helper(args):\n",
    "    html_str=''\n",
    "    for df in args:\n",
    "        html_str+=df.to_html()\n",
    "    display_html(html_str.replace('table','table style=\"display:inline\"'),raw=True)"
   ]
  },
  {
   "cell_type": "code",
   "execution_count": 301,
   "metadata": {},
   "outputs": [],
   "source": [
    "# helper function for plotting out ground truth curves\n",
    "\n",
    "import matplotlib.pyplot as plt\n",
    "\n",
    "def get_ground_truth(data):\n",
    "    relapsed = data[data.Illicit_Cens0 == 0]\n",
    "    counts = relapsed['Illicit_Days0'].value_counts()\n",
    "    counts = counts.to_dict()\n",
    "    temp = [len(data)] * 365\n",
    "    labels = list(range(365))\n",
    "    for i in range(365):\n",
    "        labels[i] += 1\n",
    "    total = 0\n",
    "    errors = []\n",
    "    for i in range(365):\n",
    "        try:\n",
    "            temp[i] = temp[i] - counts[i+1] - total\n",
    "            total = total + counts[i+1]\n",
    "        except KeyError:\n",
    "            errors.append(i)\n",
    "\n",
    "    for ele in sorted(errors, reverse = False):\n",
    "        if ele != 0:\n",
    "            temp[ele] = temp[ele-1]\n",
    "        else:\n",
    "             temp[0] = len(data)\n",
    "    temp = [x / len(data) for x in temp]\n",
    "    return labels, temp"
   ]
  },
  {
   "cell_type": "code",
   "execution_count": 302,
   "metadata": {},
   "outputs": [],
   "source": [
    "# helper function to formulate filename to save graphs\n",
    "\n",
    "def set_filename(base):\n",
    "    global INCLUDE_NONILLICIT\n",
    "    global INCLUDE_MURDER\n",
    "    global INCLUDE_HCD\n",
    "    global CONTROL\n",
    "    \n",
    "    filename = 'graphs/' + base\n",
    "    if not INCLUDE_NONILLICIT:\n",
    "        filename += '_illicit'\n",
    "    if CONTROL:\n",
    "        filename += '_control'\n",
    "    filename += '.png'\n",
    "    print('saving file to', filename)\n",
    "    return filename"
   ]
  },
  {
   "cell_type": "code",
   "execution_count": 303,
   "metadata": {},
   "outputs": [],
   "source": [
    "INCLUDE_NONILLICIT = True"
   ]
  },
  {
   "cell_type": "code",
   "execution_count": 304,
   "metadata": {},
   "outputs": [
    {
     "data": {
      "text/html": [
       "<div>\n",
       "<style scoped>\n",
       "    .dataframe tbody tr th:only-of-type {\n",
       "        vertical-align: middle;\n",
       "    }\n",
       "\n",
       "    .dataframe tbody tr th {\n",
       "        vertical-align: top;\n",
       "    }\n",
       "\n",
       "    .dataframe thead th {\n",
       "        text-align: right;\n",
       "    }\n",
       "</style>\n",
       "<table border=\"1\" class=\"dataframe\">\n",
       "  <thead>\n",
       "    <tr style=\"text-align: right;\">\n",
       "      <th></th>\n",
       "      <th>Unnamed: 0</th>\n",
       "      <th>Unnamed: 0.1</th>\n",
       "      <th>Unnamed: 0.1.1</th>\n",
       "      <th>ID</th>\n",
       "      <th>State</th>\n",
       "      <th>City</th>\n",
       "      <th>agyaddr</th>\n",
       "      <th>Illicit_Days0</th>\n",
       "      <th>Illicit_Cens0</th>\n",
       "      <th>adol</th>\n",
       "      <th>xobsyr_0</th>\n",
       "      <th>female_cd</th>\n",
       "      <th>nonwhite_cd</th>\n",
       "      <th>unemplmt_cd</th>\n",
       "      <th>prsatx_cd</th>\n",
       "      <th>gvsg_cd</th>\n",
       "      <th>CWSg_0_cd</th>\n",
       "      <th>srprobg_cd</th>\n",
       "      <th>dssg_0_cd</th>\n",
       "      <th>epsg_0_cd</th>\n",
       "      <th>adhdg_0_cd</th>\n",
       "      <th>cdsg_0_cd</th>\n",
       "      <th>cjsig_0_cd</th>\n",
       "      <th>lrig_0_cd</th>\n",
       "      <th>srig_0_cd</th>\n",
       "      <th>SESg_0_cd</th>\n",
       "      <th>r4ag_0_cd</th>\n",
       "      <th>nonillicit_flag</th>\n",
       "      <th>primsev_cd_1</th>\n",
       "      <th>primsev_cd_2</th>\n",
       "      <th>primsev_cd_3</th>\n",
       "      <th>primsev_cd_4</th>\n",
       "      <th>primsev_cd_5</th>\n",
       "      <th>primsev_cd_6</th>\n",
       "      <th>Address</th>\n",
       "      <th>lat</th>\n",
       "      <th>lng</th>\n",
       "      <th>Geo_FIPS</th>\n",
       "      <th>murder_numg</th>\n",
       "      <th>%_U18g</th>\n",
       "      <th>%_female_householdg</th>\n",
       "      <th>%_unemployedg</th>\n",
       "      <th>%_public_assistanceg</th>\n",
       "      <th>%_povertyg</th>\n",
       "    </tr>\n",
       "  </thead>\n",
       "  <tbody>\n",
       "    <tr>\n",
       "      <th>0</th>\n",
       "      <td>0</td>\n",
       "      <td>0</td>\n",
       "      <td>0</td>\n",
       "      <td>23223</td>\n",
       "      <td>FL</td>\n",
       "      <td>Miami</td>\n",
       "      <td>2140 South Dixie Hwy</td>\n",
       "      <td>365</td>\n",
       "      <td>0</td>\n",
       "      <td>0</td>\n",
       "      <td>2010</td>\n",
       "      <td>0</td>\n",
       "      <td>1</td>\n",
       "      <td>0</td>\n",
       "      <td>0</td>\n",
       "      <td>0</td>\n",
       "      <td>0</td>\n",
       "      <td>1</td>\n",
       "      <td>1</td>\n",
       "      <td>0</td>\n",
       "      <td>0</td>\n",
       "      <td>0</td>\n",
       "      <td>0</td>\n",
       "      <td>1</td>\n",
       "      <td>1</td>\n",
       "      <td>0</td>\n",
       "      <td>1</td>\n",
       "      <td>1</td>\n",
       "      <td>0</td>\n",
       "      <td>0</td>\n",
       "      <td>1</td>\n",
       "      <td>0</td>\n",
       "      <td>0</td>\n",
       "      <td>0</td>\n",
       "      <td>2140 South Dixie Hwy, Miami, FL</td>\n",
       "      <td>25.743113</td>\n",
       "      <td>-80.228303</td>\n",
       "      <td>12086.0</td>\n",
       "      <td>0.0</td>\n",
       "      <td>1.0</td>\n",
       "      <td>1.0</td>\n",
       "      <td>1.0</td>\n",
       "      <td>0.0</td>\n",
       "      <td>0.0</td>\n",
       "    </tr>\n",
       "    <tr>\n",
       "      <th>1</th>\n",
       "      <td>1</td>\n",
       "      <td>1</td>\n",
       "      <td>1</td>\n",
       "      <td>857</td>\n",
       "      <td>OH</td>\n",
       "      <td>Cleveland</td>\n",
       "      <td>1276 West Third St. #400</td>\n",
       "      <td>365</td>\n",
       "      <td>0</td>\n",
       "      <td>1</td>\n",
       "      <td>2005</td>\n",
       "      <td>0</td>\n",
       "      <td>0</td>\n",
       "      <td>0</td>\n",
       "      <td>0</td>\n",
       "      <td>2</td>\n",
       "      <td>0</td>\n",
       "      <td>0</td>\n",
       "      <td>1</td>\n",
       "      <td>1</td>\n",
       "      <td>1</td>\n",
       "      <td>1</td>\n",
       "      <td>0</td>\n",
       "      <td>1</td>\n",
       "      <td>2</td>\n",
       "      <td>0</td>\n",
       "      <td>1</td>\n",
       "      <td>1</td>\n",
       "      <td>1</td>\n",
       "      <td>0</td>\n",
       "      <td>0</td>\n",
       "      <td>0</td>\n",
       "      <td>0</td>\n",
       "      <td>0</td>\n",
       "      <td>1276 West Third St. #400, Cleveland, OH</td>\n",
       "      <td>41.501028</td>\n",
       "      <td>-81.697772</td>\n",
       "      <td>39035.0</td>\n",
       "      <td>0.0</td>\n",
       "      <td>NaN</td>\n",
       "      <td>NaN</td>\n",
       "      <td>NaN</td>\n",
       "      <td>NaN</td>\n",
       "      <td>NaN</td>\n",
       "    </tr>\n",
       "    <tr>\n",
       "      <th>2</th>\n",
       "      <td>2</td>\n",
       "      <td>2</td>\n",
       "      <td>2</td>\n",
       "      <td>929</td>\n",
       "      <td>OH</td>\n",
       "      <td>Cleveland</td>\n",
       "      <td>1276 West Third St. #400</td>\n",
       "      <td>354</td>\n",
       "      <td>0</td>\n",
       "      <td>1</td>\n",
       "      <td>2006</td>\n",
       "      <td>0</td>\n",
       "      <td>0</td>\n",
       "      <td>0</td>\n",
       "      <td>0</td>\n",
       "      <td>1</td>\n",
       "      <td>0</td>\n",
       "      <td>1</td>\n",
       "      <td>0</td>\n",
       "      <td>1</td>\n",
       "      <td>0</td>\n",
       "      <td>1</td>\n",
       "      <td>1</td>\n",
       "      <td>0</td>\n",
       "      <td>1</td>\n",
       "      <td>0</td>\n",
       "      <td>2</td>\n",
       "      <td>1</td>\n",
       "      <td>1</td>\n",
       "      <td>0</td>\n",
       "      <td>0</td>\n",
       "      <td>0</td>\n",
       "      <td>0</td>\n",
       "      <td>0</td>\n",
       "      <td>1276 West Third St. #400, Cleveland, OH</td>\n",
       "      <td>41.501028</td>\n",
       "      <td>-81.697772</td>\n",
       "      <td>39035.0</td>\n",
       "      <td>0.0</td>\n",
       "      <td>1.0</td>\n",
       "      <td>1.0</td>\n",
       "      <td>0.0</td>\n",
       "      <td>0.0</td>\n",
       "      <td>0.0</td>\n",
       "    </tr>\n",
       "    <tr>\n",
       "      <th>3</th>\n",
       "      <td>3</td>\n",
       "      <td>3</td>\n",
       "      <td>3</td>\n",
       "      <td>951</td>\n",
       "      <td>OH</td>\n",
       "      <td>Cleveland</td>\n",
       "      <td>1276 West Third St. #400</td>\n",
       "      <td>365</td>\n",
       "      <td>0</td>\n",
       "      <td>1</td>\n",
       "      <td>2006</td>\n",
       "      <td>0</td>\n",
       "      <td>0</td>\n",
       "      <td>0</td>\n",
       "      <td>0</td>\n",
       "      <td>0</td>\n",
       "      <td>0</td>\n",
       "      <td>1</td>\n",
       "      <td>0</td>\n",
       "      <td>0</td>\n",
       "      <td>0</td>\n",
       "      <td>0</td>\n",
       "      <td>1</td>\n",
       "      <td>0</td>\n",
       "      <td>1</td>\n",
       "      <td>0</td>\n",
       "      <td>2</td>\n",
       "      <td>1</td>\n",
       "      <td>0</td>\n",
       "      <td>0</td>\n",
       "      <td>1</td>\n",
       "      <td>0</td>\n",
       "      <td>0</td>\n",
       "      <td>0</td>\n",
       "      <td>1276 West Third St. #400, Cleveland, OH</td>\n",
       "      <td>41.501028</td>\n",
       "      <td>-81.697772</td>\n",
       "      <td>39035.0</td>\n",
       "      <td>0.0</td>\n",
       "      <td>1.0</td>\n",
       "      <td>1.0</td>\n",
       "      <td>0.0</td>\n",
       "      <td>0.0</td>\n",
       "      <td>0.0</td>\n",
       "    </tr>\n",
       "    <tr>\n",
       "      <th>4</th>\n",
       "      <td>4</td>\n",
       "      <td>4</td>\n",
       "      <td>4</td>\n",
       "      <td>1032</td>\n",
       "      <td>OH</td>\n",
       "      <td>Cleveland</td>\n",
       "      <td>1276 West Third St. #400</td>\n",
       "      <td>365</td>\n",
       "      <td>0</td>\n",
       "      <td>1</td>\n",
       "      <td>2006</td>\n",
       "      <td>0</td>\n",
       "      <td>0</td>\n",
       "      <td>0</td>\n",
       "      <td>0</td>\n",
       "      <td>2</td>\n",
       "      <td>0</td>\n",
       "      <td>1</td>\n",
       "      <td>1</td>\n",
       "      <td>1</td>\n",
       "      <td>1</td>\n",
       "      <td>1</td>\n",
       "      <td>0</td>\n",
       "      <td>2</td>\n",
       "      <td>1</td>\n",
       "      <td>0</td>\n",
       "      <td>2</td>\n",
       "      <td>1</td>\n",
       "      <td>0</td>\n",
       "      <td>0</td>\n",
       "      <td>1</td>\n",
       "      <td>0</td>\n",
       "      <td>0</td>\n",
       "      <td>0</td>\n",
       "      <td>1276 West Third St. #400, Cleveland, OH</td>\n",
       "      <td>41.501028</td>\n",
       "      <td>-81.697772</td>\n",
       "      <td>39035.0</td>\n",
       "      <td>0.0</td>\n",
       "      <td>1.0</td>\n",
       "      <td>1.0</td>\n",
       "      <td>0.0</td>\n",
       "      <td>0.0</td>\n",
       "      <td>0.0</td>\n",
       "    </tr>\n",
       "  </tbody>\n",
       "</table>\n",
       "</div>"
      ],
      "text/plain": [
       "   Unnamed: 0  Unnamed: 0.1  Unnamed: 0.1.1     ID State       City  \\\n",
       "0           0             0               0  23223    FL      Miami   \n",
       "1           1             1               1    857    OH  Cleveland   \n",
       "2           2             2               2    929    OH  Cleveland   \n",
       "3           3             3               3    951    OH  Cleveland   \n",
       "4           4             4               4   1032    OH  Cleveland   \n",
       "\n",
       "                    agyaddr  Illicit_Days0  Illicit_Cens0  adol  xobsyr_0  \\\n",
       "0      2140 South Dixie Hwy            365              0     0      2010   \n",
       "1  1276 West Third St. #400            365              0     1      2005   \n",
       "2  1276 West Third St. #400            354              0     1      2006   \n",
       "3  1276 West Third St. #400            365              0     1      2006   \n",
       "4  1276 West Third St. #400            365              0     1      2006   \n",
       "\n",
       "   female_cd  nonwhite_cd  unemplmt_cd  prsatx_cd  gvsg_cd  CWSg_0_cd  \\\n",
       "0          0            1            0          0        0          0   \n",
       "1          0            0            0          0        2          0   \n",
       "2          0            0            0          0        1          0   \n",
       "3          0            0            0          0        0          0   \n",
       "4          0            0            0          0        2          0   \n",
       "\n",
       "   srprobg_cd  dssg_0_cd  epsg_0_cd  adhdg_0_cd  cdsg_0_cd  cjsig_0_cd  \\\n",
       "0           1          1          0           0          0           0   \n",
       "1           0          1          1           1          1           0   \n",
       "2           1          0          1           0          1           1   \n",
       "3           1          0          0           0          0           1   \n",
       "4           1          1          1           1          1           0   \n",
       "\n",
       "   lrig_0_cd  srig_0_cd  SESg_0_cd  r4ag_0_cd  nonillicit_flag  primsev_cd_1  \\\n",
       "0          1          1          0          1                1             0   \n",
       "1          1          2          0          1                1             1   \n",
       "2          0          1          0          2                1             1   \n",
       "3          0          1          0          2                1             0   \n",
       "4          2          1          0          2                1             0   \n",
       "\n",
       "   primsev_cd_2  primsev_cd_3  primsev_cd_4  primsev_cd_5  primsev_cd_6  \\\n",
       "0             0             1             0             0             0   \n",
       "1             0             0             0             0             0   \n",
       "2             0             0             0             0             0   \n",
       "3             0             1             0             0             0   \n",
       "4             0             1             0             0             0   \n",
       "\n",
       "                                   Address        lat        lng  Geo_FIPS  \\\n",
       "0          2140 South Dixie Hwy, Miami, FL  25.743113 -80.228303   12086.0   \n",
       "1  1276 West Third St. #400, Cleveland, OH  41.501028 -81.697772   39035.0   \n",
       "2  1276 West Third St. #400, Cleveland, OH  41.501028 -81.697772   39035.0   \n",
       "3  1276 West Third St. #400, Cleveland, OH  41.501028 -81.697772   39035.0   \n",
       "4  1276 West Third St. #400, Cleveland, OH  41.501028 -81.697772   39035.0   \n",
       "\n",
       "   murder_numg  %_U18g  %_female_householdg  %_unemployedg  \\\n",
       "0          0.0     1.0                  1.0            1.0   \n",
       "1          0.0     NaN                  NaN            NaN   \n",
       "2          0.0     1.0                  1.0            0.0   \n",
       "3          0.0     1.0                  1.0            0.0   \n",
       "4          0.0     1.0                  1.0            0.0   \n",
       "\n",
       "   %_public_assistanceg  %_povertyg  \n",
       "0                   0.0         0.0  \n",
       "1                   NaN         NaN  \n",
       "2                   0.0         0.0  \n",
       "3                   0.0         0.0  \n",
       "4                   0.0         0.0  "
      ]
     },
     "execution_count": 304,
     "metadata": {},
     "output_type": "execute_result"
    }
   ],
   "source": [
    "import pandas as pd\n",
    "pd.set_option('display.max_rows', 500)\n",
    "pd.set_option('display.max_columns', 500)\n",
    "import csv\n",
    "\n",
    "df = pd.read_csv('data/data_superset.csv')\n",
    "df.head()"
   ]
  },
  {
   "cell_type": "code",
   "execution_count": 305,
   "metadata": {},
   "outputs": [
    {
     "data": {
      "text/plain": [
       "(5066, 44)"
      ]
     },
     "execution_count": 305,
     "metadata": {},
     "output_type": "execute_result"
    }
   ],
   "source": [
    "if INCLUDE_NONILLICIT == False:\n",
    "    df = df[df.nonillicit_flag == 0] # subset to only the illicit cases\n",
    "else:\n",
    "    df.drop(columns=['nonillicit_flag'], inplace=True) # if not used to subset, remove feature since its redundant\n",
    "df.shape"
   ]
  },
  {
   "cell_type": "code",
   "execution_count": 308,
   "metadata": {},
   "outputs": [
    {
     "data": {
      "text/plain": [
       "(2617, 25)"
      ]
     },
     "execution_count": 308,
     "metadata": {},
     "output_type": "execute_result"
    }
   ],
   "source": [
    "# based on a domain expert (Jordan Davis) suggestions and recursive feature selection\n",
    "cols_to_use = ['adol', 'nonwhite_cd', 'prsatx_cd', 'gvsg_cd', 'CWSg_0_cd','srprobg_cd', 'dssg_0_cd', 'epsg_0_cd',\n",
    "               'adhdg_0_cd', 'cdsg_0_cd','cjsig_0_cd', 'srig_0_cd', 'SESg_0_cd', 'r4ag_0_cd','primsev_cd_2',\n",
    "               'primsev_cd_5', 'primsev_cd_6', 'Illicit_Days0','Illicit_Cens0']\n",
    "\n",
    "df = df[cols_to_use]\n",
    "df.shape"
   ]
  },
  {
   "cell_type": "code",
   "execution_count": 309,
   "metadata": {},
   "outputs": [
    {
     "data": {
      "text/html": [
       "<div>\n",
       "<style scoped>\n",
       "    .dataframe tbody tr th:only-of-type {\n",
       "        vertical-align: middle;\n",
       "    }\n",
       "\n",
       "    .dataframe tbody tr th {\n",
       "        vertical-align: top;\n",
       "    }\n",
       "\n",
       "    .dataframe thead th {\n",
       "        text-align: right;\n",
       "    }\n",
       "</style>\n",
       "<table border=\"1\" class=\"dataframe\">\n",
       "  <thead>\n",
       "    <tr style=\"text-align: right;\">\n",
       "      <th></th>\n",
       "      <th>adol</th>\n",
       "      <th>nonwhite_cd</th>\n",
       "      <th>prsatx_cd</th>\n",
       "      <th>gvsg_cd</th>\n",
       "      <th>CWSg_0_cd</th>\n",
       "      <th>srprobg_cd</th>\n",
       "      <th>dssg_0_cd</th>\n",
       "      <th>epsg_0_cd</th>\n",
       "      <th>adhdg_0_cd</th>\n",
       "      <th>cdsg_0_cd</th>\n",
       "      <th>cjsig_0_cd</th>\n",
       "      <th>srig_0_cd</th>\n",
       "      <th>SESg_0_cd</th>\n",
       "      <th>r4ag_0_cd</th>\n",
       "      <th>primsev_cd_2</th>\n",
       "      <th>primsev_cd_5</th>\n",
       "      <th>primsev_cd_6</th>\n",
       "      <th>murder_numg</th>\n",
       "      <th>%_U18g</th>\n",
       "      <th>%_female_householdg</th>\n",
       "      <th>%_unemployedg</th>\n",
       "      <th>%_public_assistanceg</th>\n",
       "      <th>%_povertyg</th>\n",
       "      <th>Illicit_Days0</th>\n",
       "      <th>Illicit_Cens0</th>\n",
       "    </tr>\n",
       "  </thead>\n",
       "  <tbody>\n",
       "    <tr>\n",
       "      <th>29</th>\n",
       "      <td>1</td>\n",
       "      <td>0</td>\n",
       "      <td>0</td>\n",
       "      <td>2</td>\n",
       "      <td>0</td>\n",
       "      <td>1</td>\n",
       "      <td>2</td>\n",
       "      <td>1</td>\n",
       "      <td>2</td>\n",
       "      <td>2</td>\n",
       "      <td>2</td>\n",
       "      <td>2</td>\n",
       "      <td>0</td>\n",
       "      <td>0</td>\n",
       "      <td>1</td>\n",
       "      <td>0</td>\n",
       "      <td>0</td>\n",
       "      <td>0.0</td>\n",
       "      <td>1.0</td>\n",
       "      <td>1.0</td>\n",
       "      <td>0.0</td>\n",
       "      <td>0.0</td>\n",
       "      <td>0.0</td>\n",
       "      <td>166</td>\n",
       "      <td>0</td>\n",
       "    </tr>\n",
       "    <tr>\n",
       "      <th>56</th>\n",
       "      <td>1</td>\n",
       "      <td>0</td>\n",
       "      <td>0</td>\n",
       "      <td>2</td>\n",
       "      <td>0</td>\n",
       "      <td>1</td>\n",
       "      <td>1</td>\n",
       "      <td>0</td>\n",
       "      <td>2</td>\n",
       "      <td>2</td>\n",
       "      <td>2</td>\n",
       "      <td>2</td>\n",
       "      <td>2</td>\n",
       "      <td>0</td>\n",
       "      <td>1</td>\n",
       "      <td>0</td>\n",
       "      <td>0</td>\n",
       "      <td>0.0</td>\n",
       "      <td>2.0</td>\n",
       "      <td>1.0</td>\n",
       "      <td>0.0</td>\n",
       "      <td>0.0</td>\n",
       "      <td>1.0</td>\n",
       "      <td>92</td>\n",
       "      <td>0</td>\n",
       "    </tr>\n",
       "    <tr>\n",
       "      <th>57</th>\n",
       "      <td>1</td>\n",
       "      <td>0</td>\n",
       "      <td>1</td>\n",
       "      <td>2</td>\n",
       "      <td>0</td>\n",
       "      <td>1</td>\n",
       "      <td>1</td>\n",
       "      <td>1</td>\n",
       "      <td>1</td>\n",
       "      <td>2</td>\n",
       "      <td>2</td>\n",
       "      <td>1</td>\n",
       "      <td>2</td>\n",
       "      <td>0</td>\n",
       "      <td>1</td>\n",
       "      <td>0</td>\n",
       "      <td>0</td>\n",
       "      <td>0.0</td>\n",
       "      <td>1.0</td>\n",
       "      <td>1.0</td>\n",
       "      <td>0.0</td>\n",
       "      <td>0.0</td>\n",
       "      <td>0.0</td>\n",
       "      <td>168</td>\n",
       "      <td>0</td>\n",
       "    </tr>\n",
       "    <tr>\n",
       "      <th>59</th>\n",
       "      <td>1</td>\n",
       "      <td>0</td>\n",
       "      <td>0</td>\n",
       "      <td>1</td>\n",
       "      <td>0</td>\n",
       "      <td>1</td>\n",
       "      <td>1</td>\n",
       "      <td>0</td>\n",
       "      <td>0</td>\n",
       "      <td>2</td>\n",
       "      <td>2</td>\n",
       "      <td>0</td>\n",
       "      <td>0</td>\n",
       "      <td>0</td>\n",
       "      <td>1</td>\n",
       "      <td>0</td>\n",
       "      <td>0</td>\n",
       "      <td>0.0</td>\n",
       "      <td>1.0</td>\n",
       "      <td>1.0</td>\n",
       "      <td>0.0</td>\n",
       "      <td>0.0</td>\n",
       "      <td>0.0</td>\n",
       "      <td>192</td>\n",
       "      <td>0</td>\n",
       "    </tr>\n",
       "    <tr>\n",
       "      <th>61</th>\n",
       "      <td>1</td>\n",
       "      <td>0</td>\n",
       "      <td>0</td>\n",
       "      <td>0</td>\n",
       "      <td>0</td>\n",
       "      <td>1</td>\n",
       "      <td>0</td>\n",
       "      <td>1</td>\n",
       "      <td>1</td>\n",
       "      <td>1</td>\n",
       "      <td>2</td>\n",
       "      <td>2</td>\n",
       "      <td>0</td>\n",
       "      <td>0</td>\n",
       "      <td>1</td>\n",
       "      <td>0</td>\n",
       "      <td>0</td>\n",
       "      <td>0.0</td>\n",
       "      <td>1.0</td>\n",
       "      <td>1.0</td>\n",
       "      <td>0.0</td>\n",
       "      <td>0.0</td>\n",
       "      <td>0.0</td>\n",
       "      <td>351</td>\n",
       "      <td>0</td>\n",
       "    </tr>\n",
       "  </tbody>\n",
       "</table>\n",
       "</div>"
      ],
      "text/plain": [
       "    adol  nonwhite_cd  prsatx_cd  gvsg_cd  CWSg_0_cd  srprobg_cd  dssg_0_cd  \\\n",
       "29     1            0          0        2          0           1          2   \n",
       "56     1            0          0        2          0           1          1   \n",
       "57     1            0          1        2          0           1          1   \n",
       "59     1            0          0        1          0           1          1   \n",
       "61     1            0          0        0          0           1          0   \n",
       "\n",
       "    epsg_0_cd  adhdg_0_cd  cdsg_0_cd  cjsig_0_cd  srig_0_cd  SESg_0_cd  \\\n",
       "29          1           2          2           2          2          0   \n",
       "56          0           2          2           2          2          2   \n",
       "57          1           1          2           2          1          2   \n",
       "59          0           0          2           2          0          0   \n",
       "61          1           1          1           2          2          0   \n",
       "\n",
       "    r4ag_0_cd  primsev_cd_2  primsev_cd_5  primsev_cd_6  murder_numg  %_U18g  \\\n",
       "29          0             1             0             0          0.0     1.0   \n",
       "56          0             1             0             0          0.0     2.0   \n",
       "57          0             1             0             0          0.0     1.0   \n",
       "59          0             1             0             0          0.0     1.0   \n",
       "61          0             1             0             0          0.0     1.0   \n",
       "\n",
       "    %_female_householdg  %_unemployedg  %_public_assistanceg  %_povertyg  \\\n",
       "29                  1.0            0.0                   0.0         0.0   \n",
       "56                  1.0            0.0                   0.0         1.0   \n",
       "57                  1.0            0.0                   0.0         0.0   \n",
       "59                  1.0            0.0                   0.0         0.0   \n",
       "61                  1.0            0.0                   0.0         0.0   \n",
       "\n",
       "    Illicit_Days0  Illicit_Cens0  \n",
       "29            166              0  \n",
       "56             92              0  \n",
       "57            168              0  \n",
       "59            192              0  \n",
       "61            351              0  "
      ]
     },
     "execution_count": 309,
     "metadata": {},
     "output_type": "execute_result"
    }
   ],
   "source": [
    "df.head()"
   ]
  },
  {
   "cell_type": "markdown",
   "metadata": {},
   "source": [
    "Full Population Survival Analysis"
   ]
  },
  {
   "cell_type": "code",
   "execution_count": 310,
   "metadata": {},
   "outputs": [
    {
     "name": "stdout",
     "output_type": "stream",
     "text": [
      "(2093, 23) (2093,)\n",
      "(524, 23) (524,)\n",
      "(2617, 23) (2617, 2)\n"
     ]
    }
   ],
   "source": [
    "from sklearn.model_selection import train_test_split\n",
    "from sksurv.util import Surv\n",
    "\n",
    "predictor_var = 'Illicit_Days0'\n",
    "censoring_var = 'Illicit_Cens0'\n",
    "\n",
    "full_data = df.copy()\n",
    "full_label = full_data[[censoring_var, predictor_var]]\n",
    "full_data.drop(columns=[censoring_var, predictor_var], inplace=True)\n",
    "\n",
    "X_train, X_test, y_train, y_test = train_test_split(full_data, full_label, test_size=0.2)\n",
    "y_train_censored = Surv.from_arrays(y_train[censoring_var].copy(), y_train[predictor_var].copy()) # structured array to ensure censoring of 365 value\n",
    "y_test_censored = Surv.from_arrays(y_test[censoring_var].copy(), y_test[predictor_var].copy()) # structured array to ensure censoring of 365 value\n",
    "print(X_train.shape, y_train_censored.shape)\n",
    "print(X_test.shape, y_test_censored.shape)\n",
    "print(full_data.shape, full_label.shape)"
   ]
  },
  {
   "cell_type": "code",
   "execution_count": 311,
   "metadata": {},
   "outputs": [
    {
     "name": "stdout",
     "output_type": "stream",
     "text": [
      "CPU times: user 9.17 s, sys: 96 ms, total: 9.27 s\n",
      "Wall time: 21.9 s\n"
     ]
    },
    {
     "data": {
      "text/plain": [
       "GradientBoostingSurvivalAnalysis(criterion='friedman_mse', dropout_rate=0.0,\n",
       "                                 learning_rate=0.1, loss='coxph', max_depth=3,\n",
       "                                 max_features=None, max_leaf_nodes=None,\n",
       "                                 min_impurity_decrease=0.0,\n",
       "                                 min_impurity_split=None, min_samples_leaf=1,\n",
       "                                 min_samples_split=2,\n",
       "                                 min_weight_fraction_leaf=0.0, n_estimators=100,\n",
       "                                 presort='auto', random_state=None,\n",
       "                                 subsample=1.0, verbose=0)"
      ]
     },
     "execution_count": 311,
     "metadata": {},
     "output_type": "execute_result"
    }
   ],
   "source": [
    "%%time\n",
    "from sksurv.ensemble import GradientBoostingSurvivalAnalysis\n",
    "\n",
    "gbsa = GradientBoostingSurvivalAnalysis()\n",
    "gbsa.fit(X_train, y_train_censored)"
   ]
  },
  {
   "cell_type": "code",
   "execution_count": 312,
   "metadata": {},
   "outputs": [
    {
     "name": "stdout",
     "output_type": "stream",
     "text": [
      "CPU times: user 1.18 s, sys: 111 ms, total: 1.29 s\n",
      "Wall time: 2.78 s\n"
     ]
    },
    {
     "data": {
      "text/plain": [
       "RandomSurvivalForest(bootstrap=True, max_depth=None, max_features='auto',\n",
       "                     max_leaf_nodes=None, min_samples_leaf=3,\n",
       "                     min_samples_split=6, min_weight_fraction_leaf=0.0,\n",
       "                     n_estimators=100, n_jobs=None, oob_score=False,\n",
       "                     random_state=None, verbose=0, warm_start=False)"
      ]
     },
     "execution_count": 312,
     "metadata": {},
     "output_type": "execute_result"
    }
   ],
   "source": [
    "%%time\n",
    "from sksurv.ensemble import RandomSurvivalForest\n",
    "\n",
    "rsf = RandomSurvivalForest()\n",
    "rsf.fit(X_train, y_train_censored)"
   ]
  },
  {
   "cell_type": "code",
   "execution_count": 313,
   "metadata": {},
   "outputs": [
    {
     "name": "stdout",
     "output_type": "stream",
     "text": [
      "CPU times: user 425 ms, sys: 11.4 ms, total: 436 ms\n",
      "Wall time: 1.18 s\n"
     ]
    },
    {
     "data": {
      "text/plain": [
       "CoxnetSurvivalAnalysis(alpha_min_ratio=0.0001, alphas=None, copy_X=True,\n",
       "                       fit_baseline_model=True, l1_ratio=1, max_iter=100000,\n",
       "                       n_alphas=100, normalize=False, penalty_factor=None,\n",
       "                       tol=1e-07, verbose=False)"
      ]
     },
     "execution_count": 313,
     "metadata": {},
     "output_type": "execute_result"
    }
   ],
   "source": [
    "%%time\n",
    "from sksurv.linear_model import CoxnetSurvivalAnalysis\n",
    "\n",
    "# l1_ratio = 1 adjusts model to implement LASSO method for penalties\n",
    "# fit_baseline_model = True allows us to create survival/hazard plots after model is fit\n",
    "\n",
    "rcr = CoxnetSurvivalAnalysis(fit_baseline_model=True, l1_ratio=1)\n",
    "rcr.fit(X_train, y_train_censored)"
   ]
  },
  {
   "cell_type": "markdown",
   "metadata": {},
   "source": [
    "Full Population Statistics"
   ]
  },
  {
   "cell_type": "code",
   "execution_count": 315,
   "metadata": {},
   "outputs": [],
   "source": [
    "# concordance index\n",
    "scores = {'Model': ['Random Forest Boosted', 'Random Forest', 'Lasso'], \n",
    "               'Full_Pop': [gbsa.score(X_test, y_test_censored), rsf.score(X_test, y_test_censored), \n",
    "                        rcr.score(X_test, y_test_censored)]}\n",
    "full_concordance = pd.DataFrame(data=scores)"
   ]
  },
  {
   "cell_type": "markdown",
   "metadata": {},
   "source": [
    "Adolescent Survival Analysis"
   ]
  },
  {
   "cell_type": "code",
   "execution_count": 316,
   "metadata": {},
   "outputs": [
    {
     "name": "stdout",
     "output_type": "stream",
     "text": [
      "(1305, 23) (1305,)\n",
      "(327, 23) (327,)\n",
      "(1632, 23) (1632, 2)\n"
     ]
    },
    {
     "name": "stderr",
     "output_type": "stream",
     "text": [
      "//anaconda3/lib/python3.7/site-packages/pandas/core/frame.py:4117: SettingWithCopyWarning: \n",
      "A value is trying to be set on a copy of a slice from a DataFrame\n",
      "\n",
      "See the caveats in the documentation: http://pandas.pydata.org/pandas-docs/stable/user_guide/indexing.html#returning-a-view-versus-a-copy\n",
      "  errors=errors,\n"
     ]
    }
   ],
   "source": [
    "adol_data = df[df.adol == 1]\n",
    "adol_label = adol_data[[censoring_var, predictor_var]]\n",
    "adol_data.drop(columns=[censoring_var, predictor_var], inplace=True)\n",
    "\n",
    "X_train, X_test, y_train, y_test = train_test_split(adol_data, adol_label, test_size=0.2)\n",
    "y_train_censored = Surv.from_arrays(y_train[censoring_var].copy(), y_train[predictor_var].copy()) # structured array to ensure censoring of 365 value\n",
    "y_test_censored = Surv.from_arrays(y_test[censoring_var].copy(), y_test[predictor_var].copy()) # structured array to ensure censoring of 365 value\n",
    "print(X_train.shape, y_train_censored.shape)\n",
    "print(X_test.shape, y_test_censored.shape)\n",
    "print(adol_data.shape, adol_label.shape)"
   ]
  },
  {
   "cell_type": "code",
   "execution_count": 317,
   "metadata": {},
   "outputs": [
    {
     "name": "stdout",
     "output_type": "stream",
     "text": [
      "CPU times: user 3.53 s, sys: 30.7 ms, total: 3.56 s\n",
      "Wall time: 7.08 s\n"
     ]
    },
    {
     "data": {
      "text/plain": [
       "GradientBoostingSurvivalAnalysis(criterion='friedman_mse', dropout_rate=0.0,\n",
       "                                 learning_rate=0.1, loss='coxph', max_depth=3,\n",
       "                                 max_features=None, max_leaf_nodes=None,\n",
       "                                 min_impurity_decrease=0.0,\n",
       "                                 min_impurity_split=None, min_samples_leaf=1,\n",
       "                                 min_samples_split=2,\n",
       "                                 min_weight_fraction_leaf=0.0, n_estimators=100,\n",
       "                                 presort='auto', random_state=None,\n",
       "                                 subsample=1.0, verbose=0)"
      ]
     },
     "execution_count": 317,
     "metadata": {},
     "output_type": "execute_result"
    }
   ],
   "source": [
    "%%time\n",
    "\n",
    "gbsa = GradientBoostingSurvivalAnalysis()\n",
    "gbsa.fit(X_train, y_train_censored)"
   ]
  },
  {
   "cell_type": "code",
   "execution_count": 318,
   "metadata": {},
   "outputs": [
    {
     "name": "stdout",
     "output_type": "stream",
     "text": [
      "CPU times: user 772 ms, sys: 63.5 ms, total: 835 ms\n",
      "Wall time: 1.49 s\n"
     ]
    },
    {
     "data": {
      "text/plain": [
       "RandomSurvivalForest(bootstrap=True, max_depth=None, max_features='auto',\n",
       "                     max_leaf_nodes=None, min_samples_leaf=3,\n",
       "                     min_samples_split=6, min_weight_fraction_leaf=0.0,\n",
       "                     n_estimators=100, n_jobs=None, oob_score=False,\n",
       "                     random_state=None, verbose=0, warm_start=False)"
      ]
     },
     "execution_count": 318,
     "metadata": {},
     "output_type": "execute_result"
    }
   ],
   "source": [
    "%%time\n",
    "\n",
    "rsf = RandomSurvivalForest()\n",
    "rsf.fit(X_train, y_train_censored)"
   ]
  },
  {
   "cell_type": "code",
   "execution_count": 319,
   "metadata": {},
   "outputs": [
    {
     "name": "stdout",
     "output_type": "stream",
     "text": [
      "CPU times: user 341 ms, sys: 7.95 ms, total: 349 ms\n",
      "Wall time: 977 ms\n"
     ]
    },
    {
     "data": {
      "text/plain": [
       "CoxnetSurvivalAnalysis(alpha_min_ratio=0.0001, alphas=None, copy_X=True,\n",
       "                       fit_baseline_model=True, l1_ratio=1, max_iter=100000,\n",
       "                       n_alphas=100, normalize=False, penalty_factor=None,\n",
       "                       tol=1e-07, verbose=False)"
      ]
     },
     "execution_count": 319,
     "metadata": {},
     "output_type": "execute_result"
    }
   ],
   "source": [
    "%%time\n",
    "\n",
    "# l1_ratio = 1 adjusts model to implement LASSO method for penalties\n",
    "# fit_baseline_model = True allows us to create survival/hazard plots after model is fit\n",
    "\n",
    "rcr = CoxnetSurvivalAnalysis(fit_baseline_model=True, l1_ratio=1)\n",
    "rcr.fit(X_train, y_train_censored)"
   ]
  },
  {
   "cell_type": "markdown",
   "metadata": {},
   "source": [
    "Adolescent Statistics"
   ]
  },
  {
   "cell_type": "code",
   "execution_count": 320,
   "metadata": {},
   "outputs": [
    {
     "data": {
      "text/html": [
       "<table style=\"display:inline\" border=\"1\" class=\"dataframe\">\n",
       "  <thead>\n",
       "    <tr style=\"text-align: right;\">\n",
       "      <th></th>\n",
       "      <th>Feature</th>\n",
       "      <th>Adol</th>\n",
       "      <th>Adol_abs</th>\n",
       "    </tr>\n",
       "  </thead>\n",
       "  <tbody>\n",
       "    <tr>\n",
       "      <th>5</th>\n",
       "      <td>srprobg_cd</td>\n",
       "      <td>0.298360</td>\n",
       "      <td>0.298360</td>\n",
       "    </tr>\n",
       "    <tr>\n",
       "      <th>13</th>\n",
       "      <td>r4ag_0_cd</td>\n",
       "      <td>0.078064</td>\n",
       "      <td>0.078064</td>\n",
       "    </tr>\n",
       "    <tr>\n",
       "      <th>14</th>\n",
       "      <td>primsev_cd_2</td>\n",
       "      <td>-0.037022</td>\n",
       "      <td>0.037022</td>\n",
       "    </tr>\n",
       "  </tbody>\n",
       "</table style=\"display:inline\"><table style=\"display:inline\" border=\"1\" class=\"dataframe\">\n",
       "  <thead>\n",
       "    <tr style=\"text-align: right;\">\n",
       "      <th></th>\n",
       "      <th>Feature</th>\n",
       "      <th>Adol</th>\n",
       "      <th>Adol_abs</th>\n",
       "    </tr>\n",
       "  </thead>\n",
       "  <tbody>\n",
       "    <tr>\n",
       "      <th>17</th>\n",
       "      <td>murder_numg</td>\n",
       "      <td>-0.017035</td>\n",
       "      <td>0.017035</td>\n",
       "    </tr>\n",
       "    <tr>\n",
       "      <th>3</th>\n",
       "      <td>gvsg_cd</td>\n",
       "      <td>0.015748</td>\n",
       "      <td>0.015748</td>\n",
       "    </tr>\n",
       "    <tr>\n",
       "      <th>8</th>\n",
       "      <td>adhdg_0_cd</td>\n",
       "      <td>0.011959</td>\n",
       "      <td>0.011959</td>\n",
       "    </tr>\n",
       "  </tbody>\n",
       "</table style=\"display:inline\"><table style=\"display:inline\" border=\"1\" class=\"dataframe\">\n",
       "  <thead>\n",
       "    <tr style=\"text-align: right;\">\n",
       "      <th></th>\n",
       "      <th>Feature</th>\n",
       "      <th>Adol</th>\n",
       "      <th>Adol_abs</th>\n",
       "    </tr>\n",
       "  </thead>\n",
       "  <tbody>\n",
       "    <tr>\n",
       "      <th>9</th>\n",
       "      <td>cdsg_0_cd</td>\n",
       "      <td>0.011370</td>\n",
       "      <td>0.011370</td>\n",
       "    </tr>\n",
       "    <tr>\n",
       "      <th>15</th>\n",
       "      <td>primsev_cd_5</td>\n",
       "      <td>0.010219</td>\n",
       "      <td>0.010219</td>\n",
       "    </tr>\n",
       "    <tr>\n",
       "      <th>7</th>\n",
       "      <td>epsg_0_cd</td>\n",
       "      <td>0.008651</td>\n",
       "      <td>0.008651</td>\n",
       "    </tr>\n",
       "  </tbody>\n",
       "</table style=\"display:inline\">"
      ]
     },
     "metadata": {},
     "output_type": "display_data"
    }
   ],
   "source": [
    "# feature importances from Lasso\n",
    "adol_feature_importance_lasso = pd.DataFrame({'Feature':X_train.columns,\n",
    "                                              'Adol':np.average(rcr.coef_, weights=rcr.alphas_, axis = 1),})\n",
    "adol_feature_importance_lasso['Adol_abs'] = np.absolute(adol_feature_importance_lasso['Adol'])\n",
    "adol_feature_importance_lasso = adol_feature_importance_lasso.nlargest(10,['Adol_abs']) # keep top 10 features\n",
    "display_side_by_side(adol_feature_importance_lasso, 3)"
   ]
  },
  {
   "cell_type": "code",
   "execution_count": 321,
   "metadata": {},
   "outputs": [
    {
     "data": {
      "text/html": [
       "<table style=\"display:inline\" border=\"1\" class=\"dataframe\">\n",
       "  <thead>\n",
       "    <tr style=\"text-align: right;\">\n",
       "      <th></th>\n",
       "      <th>Feature</th>\n",
       "      <th>Adol</th>\n",
       "    </tr>\n",
       "  </thead>\n",
       "  <tbody>\n",
       "    <tr>\n",
       "      <th>5</th>\n",
       "      <td>srprobg_cd</td>\n",
       "      <td>0.402958</td>\n",
       "    </tr>\n",
       "    <tr>\n",
       "      <th>17</th>\n",
       "      <td>murder_numg</td>\n",
       "      <td>0.131584</td>\n",
       "    </tr>\n",
       "  </tbody>\n",
       "</table style=\"display:inline\"><table style=\"display:inline\" border=\"1\" class=\"dataframe\">\n",
       "  <thead>\n",
       "    <tr style=\"text-align: right;\">\n",
       "      <th></th>\n",
       "      <th>Feature</th>\n",
       "      <th>Adol</th>\n",
       "    </tr>\n",
       "  </thead>\n",
       "  <tbody>\n",
       "    <tr>\n",
       "      <th>13</th>\n",
       "      <td>r4ag_0_cd</td>\n",
       "      <td>0.077330</td>\n",
       "    </tr>\n",
       "    <tr>\n",
       "      <th>21</th>\n",
       "      <td>%_public_assistanceg</td>\n",
       "      <td>0.044563</td>\n",
       "    </tr>\n",
       "  </tbody>\n",
       "</table style=\"display:inline\"><table style=\"display:inline\" border=\"1\" class=\"dataframe\">\n",
       "  <thead>\n",
       "    <tr style=\"text-align: right;\">\n",
       "      <th></th>\n",
       "      <th>Feature</th>\n",
       "      <th>Adol</th>\n",
       "    </tr>\n",
       "  </thead>\n",
       "  <tbody>\n",
       "    <tr>\n",
       "      <th>9</th>\n",
       "      <td>cdsg_0_cd</td>\n",
       "      <td>0.035155</td>\n",
       "    </tr>\n",
       "    <tr>\n",
       "      <th>14</th>\n",
       "      <td>primsev_cd_2</td>\n",
       "      <td>0.034755</td>\n",
       "    </tr>\n",
       "  </tbody>\n",
       "</table style=\"display:inline\"><table style=\"display:inline\" border=\"1\" class=\"dataframe\">\n",
       "  <thead>\n",
       "    <tr style=\"text-align: right;\">\n",
       "      <th></th>\n",
       "      <th>Feature</th>\n",
       "      <th>Adol</th>\n",
       "    </tr>\n",
       "  </thead>\n",
       "  <tbody>\n",
       "    <tr>\n",
       "      <th>15</th>\n",
       "      <td>primsev_cd_5</td>\n",
       "      <td>0.031363</td>\n",
       "    </tr>\n",
       "    <tr>\n",
       "      <th>6</th>\n",
       "      <td>dssg_0_cd</td>\n",
       "      <td>0.029255</td>\n",
       "    </tr>\n",
       "  </tbody>\n",
       "</table style=\"display:inline\">"
      ]
     },
     "metadata": {},
     "output_type": "display_data"
    }
   ],
   "source": [
    "# feature importances from Boosted Random Forest\n",
    "adol_feature_importance_rf = pd.DataFrame({'Feature':X_train.columns, 'Adol':gbsa.feature_importances_,})\n",
    "adol_feature_importance_rf.sort_values(by=['Adol'], ascending=False, inplace=True)\n",
    "adol_feature_importance_rf = adol_feature_importance_rf.nlargest(10,['Adol']) # keep top 10 features\n",
    "display_side_by_side(adol_feature_importance_rf, 4)"
   ]
  },
  {
   "cell_type": "code",
   "execution_count": 322,
   "metadata": {},
   "outputs": [],
   "source": [
    "# concordance index\n",
    "scores = {'Model': ['Random Forest Boosted', 'Random Forest', 'Lasso'], \n",
    "               'Adol': [gbsa.score(X_test, y_test_censored), rsf.score(X_test, y_test_censored), \n",
    "                        rcr.score(X_test, y_test_censored)]}\n",
    "adol_concordance = pd.DataFrame(data=scores)"
   ]
  },
  {
   "cell_type": "markdown",
   "metadata": {},
   "source": [
    "Adolescent Survival Curves"
   ]
  },
  {
   "cell_type": "code",
   "execution_count": 323,
   "metadata": {},
   "outputs": [],
   "source": [
    "pred_surv_rsf = rsf.predict_survival_function(X_test)\n",
    "pred_surv_rcr = rcr.predict_survival_function(X_test)"
   ]
  },
  {
   "cell_type": "code",
   "execution_count": 324,
   "metadata": {},
   "outputs": [
    {
     "name": "stdout",
     "output_type": "stream",
     "text": [
      "saving file to graphs/survival_adol_illicit_murder_hcd.png\n"
     ]
    },
    {
     "data": {
      "image/png": "[encoded data removed]",
      "text/plain": [
       "<Figure size 432x288 with 1 Axes>"
      ]
     },
     "metadata": {
      "needs_background": "light"
     },
     "output_type": "display_data"
    }
   ],
   "source": [
    "# display survival plot\n",
    "plt.suptitle('Survival: Adolescents')\n",
    "plt.plot(np.mean([person for person in pred_surv_rsf], axis=0), label='RF')\n",
    "plt.plot(np.mean([person.y for person in pred_surv_rcr], axis=0), label='Lasso')\n",
    "labels, temp = get_ground_truth(y_test)\n",
    "plt.plot(labels, temp, label='Ground Truth')\n",
    "plt.legend()\n",
    "plt.xlim(0, 365)\n",
    "plt.xticks(np.arange(0, 365, step=50))\n",
    "plt.yticks(np.arange(0, 1.1, step=0.1))\n",
    "\n",
    "fname = set_filename('survival_adol')\n",
    "    \n",
    "plt.savefig(fname)\n",
    "plt.show()"
   ]
  },
  {
   "cell_type": "markdown",
   "metadata": {},
   "source": [
    "Non-Adolescent Survival Analysis"
   ]
  },
  {
   "cell_type": "code",
   "execution_count": 325,
   "metadata": {},
   "outputs": [
    {
     "name": "stdout",
     "output_type": "stream",
     "text": [
      "(788, 23) (788,)\n",
      "(197, 23) (197,)\n",
      "(985, 23) (985, 2)\n"
     ]
    },
    {
     "name": "stderr",
     "output_type": "stream",
     "text": [
      "//anaconda3/lib/python3.7/site-packages/pandas/core/frame.py:4117: SettingWithCopyWarning: \n",
      "A value is trying to be set on a copy of a slice from a DataFrame\n",
      "\n",
      "See the caveats in the documentation: http://pandas.pydata.org/pandas-docs/stable/user_guide/indexing.html#returning-a-view-versus-a-copy\n",
      "  errors=errors,\n"
     ]
    }
   ],
   "source": [
    "non_adol_data = df[df.adol == 0]\n",
    "non_adol_label = non_adol_data[[censoring_var, predictor_var]]\n",
    "non_adol_data.drop(columns=[censoring_var, predictor_var], inplace=True)\n",
    "\n",
    "X_train, X_test, y_train, y_test = train_test_split(non_adol_data, non_adol_label, test_size=0.2)\n",
    "y_train_censored = Surv.from_arrays(y_train[censoring_var].copy(), y_train[predictor_var].copy()) # structured array to ensure censoring of 365 value\n",
    "y_test_censored = Surv.from_arrays(y_test[censoring_var].copy(), y_test[predictor_var].copy()) # structured array to ensure censoring of 365 value\n",
    "print(X_train.shape, y_train_censored.shape)\n",
    "print(X_test.shape, y_test_censored.shape)\n",
    "print(non_adol_data.shape, non_adol_label.shape)"
   ]
  },
  {
   "cell_type": "code",
   "execution_count": 326,
   "metadata": {},
   "outputs": [
    {
     "name": "stdout",
     "output_type": "stream",
     "text": [
      "CPU times: user 1.37 s, sys: 12.2 ms, total: 1.38 s\n",
      "Wall time: 3 s\n"
     ]
    },
    {
     "data": {
      "text/plain": [
       "GradientBoostingSurvivalAnalysis(criterion='friedman_mse', dropout_rate=0.0,\n",
       "                                 learning_rate=0.1, loss='coxph', max_depth=3,\n",
       "                                 max_features=None, max_leaf_nodes=None,\n",
       "                                 min_impurity_decrease=0.0,\n",
       "                                 min_impurity_split=None, min_samples_leaf=1,\n",
       "                                 min_samples_split=2,\n",
       "                                 min_weight_fraction_leaf=0.0, n_estimators=100,\n",
       "                                 presort='auto', random_state=None,\n",
       "                                 subsample=1.0, verbose=0)"
      ]
     },
     "execution_count": 326,
     "metadata": {},
     "output_type": "execute_result"
    }
   ],
   "source": [
    "%%time\n",
    "\n",
    "gbsa = GradientBoostingSurvivalAnalysis()\n",
    "gbsa.fit(X_train, y_train_censored)"
   ]
  },
  {
   "cell_type": "code",
   "execution_count": 327,
   "metadata": {},
   "outputs": [
    {
     "name": "stdout",
     "output_type": "stream",
     "text": [
      "CPU times: user 536 ms, sys: 40.5 ms, total: 576 ms\n",
      "Wall time: 1.22 s\n"
     ]
    },
    {
     "data": {
      "text/plain": [
       "RandomSurvivalForest(bootstrap=True, max_depth=None, max_features='auto',\n",
       "                     max_leaf_nodes=None, min_samples_leaf=3,\n",
       "                     min_samples_split=6, min_weight_fraction_leaf=0.0,\n",
       "                     n_estimators=100, n_jobs=None, oob_score=False,\n",
       "                     random_state=None, verbose=0, warm_start=False)"
      ]
     },
     "execution_count": 327,
     "metadata": {},
     "output_type": "execute_result"
    }
   ],
   "source": [
    "%%time\n",
    "\n",
    "rsf = RandomSurvivalForest()\n",
    "rsf.fit(X_train, y_train_censored)"
   ]
  },
  {
   "cell_type": "code",
   "execution_count": 328,
   "metadata": {},
   "outputs": [
    {
     "name": "stdout",
     "output_type": "stream",
     "text": [
      "CPU times: user 237 ms, sys: 6.52 ms, total: 243 ms\n",
      "Wall time: 865 ms\n"
     ]
    },
    {
     "data": {
      "text/plain": [
       "CoxnetSurvivalAnalysis(alpha_min_ratio=0.0001, alphas=None, copy_X=True,\n",
       "                       fit_baseline_model=True, l1_ratio=1, max_iter=100000,\n",
       "                       n_alphas=100, normalize=False, penalty_factor=None,\n",
       "                       tol=1e-07, verbose=False)"
      ]
     },
     "execution_count": 328,
     "metadata": {},
     "output_type": "execute_result"
    }
   ],
   "source": [
    "%%time\n",
    "\n",
    "# l1_ratio = 1 adjusts model to implement LASSO method for penalties\n",
    "# fit_baseline_model = True allows us to create survival/hazard plots after model is fit\n",
    "\n",
    "rcr = CoxnetSurvivalAnalysis(fit_baseline_model=True, l1_ratio=1)\n",
    "rcr.fit(X_train, y_train_censored)"
   ]
  },
  {
   "cell_type": "markdown",
   "metadata": {},
   "source": [
    "Non-Adolescent Statistics"
   ]
  },
  {
   "cell_type": "code",
   "execution_count": 329,
   "metadata": {},
   "outputs": [
    {
     "data": {
      "text/html": [
       "<table style=\"display:inline\" border=\"1\" class=\"dataframe\">\n",
       "  <thead>\n",
       "    <tr style=\"text-align: right;\">\n",
       "      <th></th>\n",
       "      <th>Feature</th>\n",
       "      <th>Non_Adol</th>\n",
       "      <th>Non_Adol_abs</th>\n",
       "    </tr>\n",
       "  </thead>\n",
       "  <tbody>\n",
       "    <tr>\n",
       "      <th>15</th>\n",
       "      <td>primsev_cd_5</td>\n",
       "      <td>0.064412</td>\n",
       "      <td>0.064412</td>\n",
       "    </tr>\n",
       "    <tr>\n",
       "      <th>5</th>\n",
       "      <td>srprobg_cd</td>\n",
       "      <td>0.061079</td>\n",
       "      <td>0.061079</td>\n",
       "    </tr>\n",
       "    <tr>\n",
       "      <th>6</th>\n",
       "      <td>dssg_0_cd</td>\n",
       "      <td>0.058164</td>\n",
       "      <td>0.058164</td>\n",
       "    </tr>\n",
       "  </tbody>\n",
       "</table style=\"display:inline\"><table style=\"display:inline\" border=\"1\" class=\"dataframe\">\n",
       "  <thead>\n",
       "    <tr style=\"text-align: right;\">\n",
       "      <th></th>\n",
       "      <th>Feature</th>\n",
       "      <th>Non_Adol</th>\n",
       "      <th>Non_Adol_abs</th>\n",
       "    </tr>\n",
       "  </thead>\n",
       "  <tbody>\n",
       "    <tr>\n",
       "      <th>21</th>\n",
       "      <td>%_public_assistanceg</td>\n",
       "      <td>0.041986</td>\n",
       "      <td>0.041986</td>\n",
       "    </tr>\n",
       "    <tr>\n",
       "      <th>20</th>\n",
       "      <td>%_unemployedg</td>\n",
       "      <td>0.026117</td>\n",
       "      <td>0.026117</td>\n",
       "    </tr>\n",
       "    <tr>\n",
       "      <th>13</th>\n",
       "      <td>r4ag_0_cd</td>\n",
       "      <td>0.024651</td>\n",
       "      <td>0.024651</td>\n",
       "    </tr>\n",
       "  </tbody>\n",
       "</table style=\"display:inline\"><table style=\"display:inline\" border=\"1\" class=\"dataframe\">\n",
       "  <thead>\n",
       "    <tr style=\"text-align: right;\">\n",
       "      <th></th>\n",
       "      <th>Feature</th>\n",
       "      <th>Non_Adol</th>\n",
       "      <th>Non_Adol_abs</th>\n",
       "    </tr>\n",
       "  </thead>\n",
       "  <tbody>\n",
       "    <tr>\n",
       "      <th>12</th>\n",
       "      <td>SESg_0_cd</td>\n",
       "      <td>0.015201</td>\n",
       "      <td>0.015201</td>\n",
       "    </tr>\n",
       "    <tr>\n",
       "      <th>18</th>\n",
       "      <td>%_U18g</td>\n",
       "      <td>0.005018</td>\n",
       "      <td>0.005018</td>\n",
       "    </tr>\n",
       "    <tr>\n",
       "      <th>8</th>\n",
       "      <td>adhdg_0_cd</td>\n",
       "      <td>0.001674</td>\n",
       "      <td>0.001674</td>\n",
       "    </tr>\n",
       "  </tbody>\n",
       "</table style=\"display:inline\">"
      ]
     },
     "metadata": {},
     "output_type": "display_data"
    }
   ],
   "source": [
    "# feature importances from Lasso\n",
    "non_adol_feature_importance_lasso = pd.DataFrame({'Feature':X_train.columns, \n",
    "                                                  'Non_Adol':np.average(rcr.coef_, weights=rcr.alphas_, axis = 1),})\n",
    "non_adol_feature_importance_lasso['Non_Adol_abs'] = np.absolute(non_adol_feature_importance_lasso['Non_Adol'])\n",
    "non_adol_feature_importance_lasso = non_adol_feature_importance_lasso.nlargest(10,['Non_Adol']) # keep top 10 features\n",
    "display_side_by_side(non_adol_feature_importance_lasso, 3)"
   ]
  },
  {
   "cell_type": "code",
   "execution_count": 330,
   "metadata": {},
   "outputs": [
    {
     "data": {
      "text/html": [
       "<table style=\"display:inline\" border=\"1\" class=\"dataframe\">\n",
       "  <thead>\n",
       "    <tr style=\"text-align: right;\">\n",
       "      <th></th>\n",
       "      <th>Feature</th>\n",
       "      <th>Non_Adol</th>\n",
       "    </tr>\n",
       "  </thead>\n",
       "  <tbody>\n",
       "    <tr>\n",
       "      <th>14</th>\n",
       "      <td>primsev_cd_2</td>\n",
       "      <td>0.141184</td>\n",
       "    </tr>\n",
       "    <tr>\n",
       "      <th>22</th>\n",
       "      <td>%_povertyg</td>\n",
       "      <td>0.127328</td>\n",
       "    </tr>\n",
       "  </tbody>\n",
       "</table style=\"display:inline\"><table style=\"display:inline\" border=\"1\" class=\"dataframe\">\n",
       "  <thead>\n",
       "    <tr style=\"text-align: right;\">\n",
       "      <th></th>\n",
       "      <th>Feature</th>\n",
       "      <th>Non_Adol</th>\n",
       "    </tr>\n",
       "  </thead>\n",
       "  <tbody>\n",
       "    <tr>\n",
       "      <th>3</th>\n",
       "      <td>gvsg_cd</td>\n",
       "      <td>0.071822</td>\n",
       "    </tr>\n",
       "    <tr>\n",
       "      <th>6</th>\n",
       "      <td>dssg_0_cd</td>\n",
       "      <td>0.067363</td>\n",
       "    </tr>\n",
       "  </tbody>\n",
       "</table style=\"display:inline\"><table style=\"display:inline\" border=\"1\" class=\"dataframe\">\n",
       "  <thead>\n",
       "    <tr style=\"text-align: right;\">\n",
       "      <th></th>\n",
       "      <th>Feature</th>\n",
       "      <th>Non_Adol</th>\n",
       "    </tr>\n",
       "  </thead>\n",
       "  <tbody>\n",
       "    <tr>\n",
       "      <th>15</th>\n",
       "      <td>primsev_cd_5</td>\n",
       "      <td>0.054644</td>\n",
       "    </tr>\n",
       "    <tr>\n",
       "      <th>18</th>\n",
       "      <td>%_U18g</td>\n",
       "      <td>0.054277</td>\n",
       "    </tr>\n",
       "  </tbody>\n",
       "</table style=\"display:inline\"><table style=\"display:inline\" border=\"1\" class=\"dataframe\">\n",
       "  <thead>\n",
       "    <tr style=\"text-align: right;\">\n",
       "      <th></th>\n",
       "      <th>Feature</th>\n",
       "      <th>Non_Adol</th>\n",
       "    </tr>\n",
       "  </thead>\n",
       "  <tbody>\n",
       "    <tr>\n",
       "      <th>20</th>\n",
       "      <td>%_unemployedg</td>\n",
       "      <td>0.045766</td>\n",
       "    </tr>\n",
       "    <tr>\n",
       "      <th>5</th>\n",
       "      <td>srprobg_cd</td>\n",
       "      <td>0.044784</td>\n",
       "    </tr>\n",
       "  </tbody>\n",
       "</table style=\"display:inline\">"
      ]
     },
     "metadata": {},
     "output_type": "display_data"
    }
   ],
   "source": [
    "# feature importances from Boosted Random Forest\n",
    "non_adol_feature_importance_rf = pd.DataFrame({'Feature':X_train.columns, 'Non_Adol':gbsa.feature_importances_,})\n",
    "non_adol_feature_importance_rf = non_adol_feature_importance_rf.nlargest(10,['Non_Adol']) # keep top 10 features\n",
    "display_side_by_side(non_adol_feature_importance_rf, 4)"
   ]
  },
  {
   "cell_type": "code",
   "execution_count": 331,
   "metadata": {},
   "outputs": [],
   "source": [
    "# concordance index\n",
    "scores = {'Model': ['Random Forest Boosted', 'Random Forest', 'Lasso'], \n",
    "               'Non_Adol': [gbsa.score(X_test, y_test_censored), rsf.score(X_test, y_test_censored), \n",
    "                        rcr.score(X_test, y_test_censored)]}\n",
    "non_adol_concordance = pd.DataFrame(data=scores)"
   ]
  },
  {
   "cell_type": "markdown",
   "metadata": {},
   "source": [
    "Non-Adolescent Survival Curves"
   ]
  },
  {
   "cell_type": "code",
   "execution_count": 332,
   "metadata": {},
   "outputs": [],
   "source": [
    "pred_surv_rsf = rsf.predict_survival_function(X_test)\n",
    "pred_surv_rcr = rcr.predict_survival_function(X_test)"
   ]
  },
  {
   "cell_type": "code",
   "execution_count": 333,
   "metadata": {},
   "outputs": [
    {
     "name": "stdout",
     "output_type": "stream",
     "text": [
      "saving file to graphs/survival_non_adol_illicit_murder_hcd.png\n"
     ]
    },
    {
     "data": {
      "image/png": "[encoded data removed]",
      "text/plain": [
       "<Figure size 432x288 with 1 Axes>"
      ]
     },
     "metadata": {
      "needs_background": "light"
     },
     "output_type": "display_data"
    }
   ],
   "source": [
    "# display survival plot\n",
    "plt.suptitle('Survival: Non-Adolescents')\n",
    "plt.plot(np.mean([person for person in pred_surv_rsf], axis=0), label='RF')\n",
    "plt.plot(np.mean([person.y for person in pred_surv_rcr], axis=0), label='Lasso')\n",
    "labels, temp = get_ground_truth(y_test)\n",
    "plt.plot(labels, temp, label='Ground Truth')\n",
    "plt.legend()\n",
    "plt.xlim(0, 365)\n",
    "plt.xticks(np.arange(0, 365, step=50))\n",
    "plt.yticks(np.arange(0, 1.1, step=0.1))\n",
    "\n",
    "fname = set_filename('survival_non_adol')\n",
    "    \n",
    "plt.savefig(fname)\n",
    "plt.show()"
   ]
  },
  {
   "cell_type": "markdown",
   "metadata": {},
   "source": [
    "Overall Statistics"
   ]
  },
  {
   "cell_type": "code",
   "execution_count": 334,
   "metadata": {},
   "outputs": [
    {
     "data": {
      "text/html": [
       "<div>\n",
       "<style scoped>\n",
       "    .dataframe tbody tr th:only-of-type {\n",
       "        vertical-align: middle;\n",
       "    }\n",
       "\n",
       "    .dataframe tbody tr th {\n",
       "        vertical-align: top;\n",
       "    }\n",
       "\n",
       "    .dataframe thead th {\n",
       "        text-align: right;\n",
       "    }\n",
       "</style>\n",
       "<table border=\"1\" class=\"dataframe\">\n",
       "  <thead>\n",
       "    <tr style=\"text-align: right;\">\n",
       "      <th></th>\n",
       "      <th>Model</th>\n",
       "      <th>Adol</th>\n",
       "      <th>Non_Adol</th>\n",
       "      <th>Full_Pop</th>\n",
       "    </tr>\n",
       "  </thead>\n",
       "  <tbody>\n",
       "    <tr>\n",
       "      <th>0</th>\n",
       "      <td>Random Forest Boosted</td>\n",
       "      <td>0.751494</td>\n",
       "      <td>0.676631</td>\n",
       "      <td>0.684023</td>\n",
       "    </tr>\n",
       "    <tr>\n",
       "      <th>1</th>\n",
       "      <td>Random Forest</td>\n",
       "      <td>0.767883</td>\n",
       "      <td>0.697587</td>\n",
       "      <td>0.684188</td>\n",
       "    </tr>\n",
       "    <tr>\n",
       "      <th>2</th>\n",
       "      <td>Lasso</td>\n",
       "      <td>0.763568</td>\n",
       "      <td>0.659593</td>\n",
       "      <td>0.675283</td>\n",
       "    </tr>\n",
       "  </tbody>\n",
       "</table>\n",
       "</div>"
      ],
      "text/plain": [
       "                   Model      Adol  Non_Adol  Full_Pop\n",
       "0  Random Forest Boosted  0.751494  0.676631  0.684023\n",
       "1          Random Forest  0.767883  0.697587  0.684188\n",
       "2                  Lasso  0.763568  0.659593  0.675283"
      ]
     },
     "execution_count": 334,
     "metadata": {},
     "output_type": "execute_result"
    }
   ],
   "source": [
    "overall_concordance = pd.concat([adol_concordance, non_adol_concordance['Non_Adol'], \n",
    "                                 full_concordance['Full_Pop']], axis=1)\n",
    "pd.DataFrame(data=overall_concordance)"
   ]
  },
  {
   "cell_type": "code",
   "execution_count": 335,
   "metadata": {},
   "outputs": [
    {
     "data": {
      "text/html": [
       "<table style=\"display:inline\" border=\"1\" class=\"dataframe\">\n",
       "  <thead>\n",
       "    <tr style=\"text-align: right;\">\n",
       "      <th></th>\n",
       "      <th>Feature</th>\n",
       "      <th>Adol</th>\n",
       "      <th>Adol_abs</th>\n",
       "      <th>Non_Adol</th>\n",
       "      <th>Non_Adol_abs</th>\n",
       "    </tr>\n",
       "  </thead>\n",
       "  <tbody>\n",
       "    <tr>\n",
       "      <th>0</th>\n",
       "      <td>srprobg_cd</td>\n",
       "      <td>0.298360</td>\n",
       "      <td>0.298360</td>\n",
       "      <td>0.061079</td>\n",
       "      <td>0.061079</td>\n",
       "    </tr>\n",
       "    <tr>\n",
       "      <th>1</th>\n",
       "      <td>r4ag_0_cd</td>\n",
       "      <td>0.078064</td>\n",
       "      <td>0.078064</td>\n",
       "      <td>0.024651</td>\n",
       "      <td>0.024651</td>\n",
       "    </tr>\n",
       "    <tr>\n",
       "      <th>2</th>\n",
       "      <td>primsev_cd_2</td>\n",
       "      <td>-0.037022</td>\n",
       "      <td>0.037022</td>\n",
       "      <td>0.000000</td>\n",
       "      <td>0.000000</td>\n",
       "    </tr>\n",
       "    <tr>\n",
       "      <th>3</th>\n",
       "      <td>murder_numg</td>\n",
       "      <td>-0.017035</td>\n",
       "      <td>0.017035</td>\n",
       "      <td>0.000000</td>\n",
       "      <td>0.000000</td>\n",
       "    </tr>\n",
       "    <tr>\n",
       "      <th>4</th>\n",
       "      <td>gvsg_cd</td>\n",
       "      <td>0.015748</td>\n",
       "      <td>0.015748</td>\n",
       "      <td>0.000000</td>\n",
       "      <td>0.000000</td>\n",
       "    </tr>\n",
       "    <tr>\n",
       "      <th>5</th>\n",
       "      <td>adhdg_0_cd</td>\n",
       "      <td>0.011959</td>\n",
       "      <td>0.011959</td>\n",
       "      <td>0.001674</td>\n",
       "      <td>0.001674</td>\n",
       "    </tr>\n",
       "    <tr>\n",
       "      <th>6</th>\n",
       "      <td>cdsg_0_cd</td>\n",
       "      <td>0.011370</td>\n",
       "      <td>0.011370</td>\n",
       "      <td>0.000000</td>\n",
       "      <td>0.000000</td>\n",
       "    </tr>\n",
       "    <tr>\n",
       "      <th>7</th>\n",
       "      <td>primsev_cd_5</td>\n",
       "      <td>0.010219</td>\n",
       "      <td>0.010219</td>\n",
       "      <td>0.064412</td>\n",
       "      <td>0.064412</td>\n",
       "    </tr>\n",
       "  </tbody>\n",
       "</table style=\"display:inline\"><table style=\"display:inline\" border=\"1\" class=\"dataframe\">\n",
       "  <thead>\n",
       "    <tr style=\"text-align: right;\">\n",
       "      <th></th>\n",
       "      <th>Feature</th>\n",
       "      <th>Adol</th>\n",
       "      <th>Adol_abs</th>\n",
       "      <th>Non_Adol</th>\n",
       "      <th>Non_Adol_abs</th>\n",
       "    </tr>\n",
       "  </thead>\n",
       "  <tbody>\n",
       "    <tr>\n",
       "      <th>8</th>\n",
       "      <td>epsg_0_cd</td>\n",
       "      <td>0.008651</td>\n",
       "      <td>0.008651</td>\n",
       "      <td>0.000000</td>\n",
       "      <td>0.000000</td>\n",
       "    </tr>\n",
       "    <tr>\n",
       "      <th>9</th>\n",
       "      <td>srig_0_cd</td>\n",
       "      <td>0.008051</td>\n",
       "      <td>0.008051</td>\n",
       "      <td>0.000000</td>\n",
       "      <td>0.000000</td>\n",
       "    </tr>\n",
       "    <tr>\n",
       "      <th>10</th>\n",
       "      <td>dssg_0_cd</td>\n",
       "      <td>0.000000</td>\n",
       "      <td>0.000000</td>\n",
       "      <td>0.058164</td>\n",
       "      <td>0.058164</td>\n",
       "    </tr>\n",
       "    <tr>\n",
       "      <th>11</th>\n",
       "      <td>%_public_assistanceg</td>\n",
       "      <td>0.000000</td>\n",
       "      <td>0.000000</td>\n",
       "      <td>0.041986</td>\n",
       "      <td>0.041986</td>\n",
       "    </tr>\n",
       "    <tr>\n",
       "      <th>12</th>\n",
       "      <td>%_unemployedg</td>\n",
       "      <td>0.000000</td>\n",
       "      <td>0.000000</td>\n",
       "      <td>0.026117</td>\n",
       "      <td>0.026117</td>\n",
       "    </tr>\n",
       "    <tr>\n",
       "      <th>13</th>\n",
       "      <td>SESg_0_cd</td>\n",
       "      <td>0.000000</td>\n",
       "      <td>0.000000</td>\n",
       "      <td>0.015201</td>\n",
       "      <td>0.015201</td>\n",
       "    </tr>\n",
       "    <tr>\n",
       "      <th>14</th>\n",
       "      <td>%_U18g</td>\n",
       "      <td>0.000000</td>\n",
       "      <td>0.000000</td>\n",
       "      <td>0.005018</td>\n",
       "      <td>0.005018</td>\n",
       "    </tr>\n",
       "    <tr>\n",
       "      <th>15</th>\n",
       "      <td>adol</td>\n",
       "      <td>0.000000</td>\n",
       "      <td>0.000000</td>\n",
       "      <td>0.000000</td>\n",
       "      <td>0.000000</td>\n",
       "    </tr>\n",
       "  </tbody>\n",
       "</table style=\"display:inline\">"
      ]
     },
     "metadata": {},
     "output_type": "display_data"
    }
   ],
   "source": [
    "overall_feature_importance_lasso = pd.merge(adol_feature_importance_lasso, non_adol_feature_importance_lasso,\n",
    "                                            on='Feature', how='outer')\n",
    "overall_feature_importance_lasso.fillna(0, inplace=True)\n",
    "display_side_by_side(overall_feature_importance_lasso, 2)"
   ]
  },
  {
   "cell_type": "code",
   "execution_count": 336,
   "metadata": {},
   "outputs": [
    {
     "data": {
      "text/html": [
       "<table style=\"display:inline\" border=\"1\" class=\"dataframe\">\n",
       "  <thead>\n",
       "    <tr style=\"text-align: right;\">\n",
       "      <th></th>\n",
       "      <th>Feature</th>\n",
       "      <th>Adol</th>\n",
       "      <th>Non_Adol</th>\n",
       "    </tr>\n",
       "  </thead>\n",
       "  <tbody>\n",
       "    <tr>\n",
       "      <th>0</th>\n",
       "      <td>srprobg_cd</td>\n",
       "      <td>0.402958</td>\n",
       "      <td>0.044784</td>\n",
       "    </tr>\n",
       "    <tr>\n",
       "      <th>1</th>\n",
       "      <td>murder_numg</td>\n",
       "      <td>0.131584</td>\n",
       "      <td>0.000000</td>\n",
       "    </tr>\n",
       "    <tr>\n",
       "      <th>2</th>\n",
       "      <td>r4ag_0_cd</td>\n",
       "      <td>0.077330</td>\n",
       "      <td>0.037692</td>\n",
       "    </tr>\n",
       "  </tbody>\n",
       "</table style=\"display:inline\"><table style=\"display:inline\" border=\"1\" class=\"dataframe\">\n",
       "  <thead>\n",
       "    <tr style=\"text-align: right;\">\n",
       "      <th></th>\n",
       "      <th>Feature</th>\n",
       "      <th>Adol</th>\n",
       "      <th>Non_Adol</th>\n",
       "    </tr>\n",
       "  </thead>\n",
       "  <tbody>\n",
       "    <tr>\n",
       "      <th>3</th>\n",
       "      <td>%_public_assistanceg</td>\n",
       "      <td>0.044563</td>\n",
       "      <td>0.042992</td>\n",
       "    </tr>\n",
       "    <tr>\n",
       "      <th>4</th>\n",
       "      <td>cdsg_0_cd</td>\n",
       "      <td>0.035155</td>\n",
       "      <td>0.000000</td>\n",
       "    </tr>\n",
       "    <tr>\n",
       "      <th>5</th>\n",
       "      <td>primsev_cd_2</td>\n",
       "      <td>0.034755</td>\n",
       "      <td>0.141184</td>\n",
       "    </tr>\n",
       "  </tbody>\n",
       "</table style=\"display:inline\"><table style=\"display:inline\" border=\"1\" class=\"dataframe\">\n",
       "  <thead>\n",
       "    <tr style=\"text-align: right;\">\n",
       "      <th></th>\n",
       "      <th>Feature</th>\n",
       "      <th>Adol</th>\n",
       "      <th>Non_Adol</th>\n",
       "    </tr>\n",
       "  </thead>\n",
       "  <tbody>\n",
       "    <tr>\n",
       "      <th>6</th>\n",
       "      <td>primsev_cd_5</td>\n",
       "      <td>0.031363</td>\n",
       "      <td>0.054644</td>\n",
       "    </tr>\n",
       "    <tr>\n",
       "      <th>7</th>\n",
       "      <td>dssg_0_cd</td>\n",
       "      <td>0.029255</td>\n",
       "      <td>0.067363</td>\n",
       "    </tr>\n",
       "    <tr>\n",
       "      <th>8</th>\n",
       "      <td>%_unemployedg</td>\n",
       "      <td>0.027027</td>\n",
       "      <td>0.045766</td>\n",
       "    </tr>\n",
       "  </tbody>\n",
       "</table style=\"display:inline\"><table style=\"display:inline\" border=\"1\" class=\"dataframe\">\n",
       "  <thead>\n",
       "    <tr style=\"text-align: right;\">\n",
       "      <th></th>\n",
       "      <th>Feature</th>\n",
       "      <th>Adol</th>\n",
       "      <th>Non_Adol</th>\n",
       "    </tr>\n",
       "  </thead>\n",
       "  <tbody>\n",
       "    <tr>\n",
       "      <th>9</th>\n",
       "      <td>primsev_cd_6</td>\n",
       "      <td>0.025844</td>\n",
       "      <td>0.000000</td>\n",
       "    </tr>\n",
       "    <tr>\n",
       "      <th>10</th>\n",
       "      <td>%_povertyg</td>\n",
       "      <td>0.000000</td>\n",
       "      <td>0.127328</td>\n",
       "    </tr>\n",
       "    <tr>\n",
       "      <th>11</th>\n",
       "      <td>gvsg_cd</td>\n",
       "      <td>0.000000</td>\n",
       "      <td>0.071822</td>\n",
       "    </tr>\n",
       "  </tbody>\n",
       "</table style=\"display:inline\">"
      ]
     },
     "metadata": {},
     "output_type": "display_data"
    }
   ],
   "source": [
    "overall_feature_importance_rf = pd.merge(adol_feature_importance_rf, non_adol_feature_importance_rf, \n",
    "                                         on='Feature', how='outer')\n",
    "overall_feature_importance_rf.fillna(0, inplace=True)\n",
    "display_side_by_side(overall_feature_importance_rf, 4)"
   ]
  },
  {
   "cell_type": "code",
   "execution_count": 337,
   "metadata": {},
   "outputs": [
    {
     "name": "stdout",
     "output_type": "stream",
     "text": [
      "saving file to graphs/feature_importances_lasso_age_illicit_murder_hcd.png\n"
     ]
    },
    {
     "data": {
      "text/plain": [
       "<Figure size 432x288 with 0 Axes>"
      ]
     },
     "metadata": {},
     "output_type": "display_data"
    },
    {
     "data": {
      "image/png": "[encoded data removed]",
      "text/plain": [
       "<Figure size 864x864 with 1 Axes>"
      ]
     },
     "metadata": {
      "needs_background": "light"
     },
     "output_type": "display_data"
    }
   ],
   "source": [
    "# feature importance for lasso across all ages\n",
    "df = pd.DataFrame({'ADOL': overall_feature_importance_lasso['Adol'].tolist(),\n",
    "                   'NON ADOL': overall_feature_importance_lasso['Non_Adol'].tolist()},\n",
    "                  index=overall_feature_importance_lasso['Feature'].tolist())\n",
    "df.sort_values(by=['ADOL'], ascending=False, inplace=True)\n",
    "plt.suptitle('Feature Importance: Lasso')\n",
    "ax = df.plot.bar(rot=50, figsize=(12, 12))\n",
    "ax.grid()\n",
    "fig = ax.get_figure()\n",
    "\n",
    "fname = set_filename('feature_importances_lasso_age')\n",
    "    \n",
    "fig.savefig(fname, bbox_inches='tight')"
   ]
  },
  {
   "cell_type": "code",
   "execution_count": 338,
   "metadata": {},
   "outputs": [
    {
     "name": "stdout",
     "output_type": "stream",
     "text": [
      "saving file to graphs/feature_importances_rf_age_illicit_murder_hcd.png\n"
     ]
    },
    {
     "data": {
      "text/plain": [
       "<Figure size 432x288 with 0 Axes>"
      ]
     },
     "metadata": {},
     "output_type": "display_data"
    },
    {
     "data": {
      "image/png": "[encoded data removed]",
      "text/plain": [
       "<Figure size 864x864 with 1 Axes>"
      ]
     },
     "metadata": {
      "needs_background": "light"
     },
     "output_type": "display_data"
    }
   ],
   "source": [
    "# feature importance for lasso across all ages\n",
    "df = pd.DataFrame({'ADOL': overall_feature_importance_rf['Adol'].tolist(),\n",
    "                   'NON ADOL': overall_feature_importance_rf['Non_Adol'].tolist()},\n",
    "                  index=overall_feature_importance_rf['Feature'].tolist())\n",
    "df.sort_values(by=['ADOL'], ascending=False, inplace=True)\n",
    "plt.suptitle('Feature Importance: Lasso')\n",
    "ax = df.plot.bar(rot=50, figsize=(12, 12))\n",
    "ax.grid()\n",
    "fig = ax.get_figure()\n",
    "\n",
    "fname = set_filename('feature_importances_rf_age')\n",
    "    \n",
    "fig.savefig(fname, bbox_inches='tight')"
   ]
  },
  {
   "cell_type": "code",
   "execution_count": 339,
   "metadata": {},
   "outputs": [
    {
     "name": "stdout",
     "output_type": "stream",
     "text": [
      "Common Features:, %_U18g, %_public_assistanceg, %_unemployedg, cdsg_0_cd, dssg_0_cd, gvsg_cd, murder_numg, primsev_cd_2, primsev_cd_5, r4ag_0_cd, srprobg_cd\n"
     ]
    }
   ],
   "source": [
    "# features in top 20-ish of both models across all ages\n",
    "feature_importance_intersection = np.intersect1d(overall_feature_importance_rf['Feature'], \n",
    "                                                 overall_feature_importance_lasso['Feature'])\n",
    "print('Common Features:', *list(feature_importance_intersection), sep =', ')"
   ]
  },
  {
   "cell_type": "code",
   "execution_count": 340,
   "metadata": {},
   "outputs": [
    {
     "name": "stdout",
     "output_type": "stream",
     "text": [
      "--- 0 minutes 52 seconds ---\n"
     ]
    }
   ],
   "source": [
    "# print out total notebook execution time\n",
    "total_seconds = int(time.time() - start_time)\n",
    "minutes = total_seconds // 60\n",
    "seconds = total_seconds % 60\n",
    "print(\"--- \" + str(minutes) + \" minutes \" + str(seconds) + \" seconds ---\")"
   ]
  }
 ],
 "metadata": {
  "kernelspec": {
   "display_name": "Python 3",
   "language": "python",
   "name": "python3"
  },
  "language_info": {
   "codemirror_mode": {
    "name": "ipython",
    "version": 3
   },
   "file_extension": ".py",
   "mimetype": "text/x-python",
   "name": "python",
   "nbconvert_exporter": "python",
   "pygments_lexer": "ipython3",
   "version": "3.7.3"
  }
 },
 "nbformat": 4,
 "nbformat_minor": 2
}
