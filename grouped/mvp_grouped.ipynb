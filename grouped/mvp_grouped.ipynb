{
 "cells": [
  {
   "cell_type": "code",
   "execution_count": 18,
   "metadata": {},
   "outputs": [],
   "source": [
    "# store start time to get execution time of entire script\n",
    "import time\n",
    "start_time = time.time()"
   ]
  },
  {
   "cell_type": "code",
   "execution_count": 19,
   "metadata": {},
   "outputs": [],
   "source": [
    "# helper functions for displaying table data\n",
    "\n",
    "import numpy as np\n",
    "from IPython.display import display_html\n",
    "\n",
    "# n is the number of columns to display data in\n",
    "def display_side_by_side(series_obj, n):\n",
    "    df = pd.DataFrame(series_obj)\n",
    "    partition = int(round(len(df) / n))\n",
    "    lower_bound = 0\n",
    "    upper_bound = partition\n",
    "    args = []\n",
    "    for i in range(n):\n",
    "        args.append(df[lower_bound:upper_bound])\n",
    "        lower_bound += partition\n",
    "        upper_bound += partition\n",
    "    helper(args)\n",
    "\n",
    "def helper(args):\n",
    "    html_str=''\n",
    "    for df in args:\n",
    "        html_str+=df.to_html()\n",
    "    display_html(html_str.replace('table','table style=\"display:inline\"'),raw=True)"
   ]
  },
  {
   "cell_type": "code",
   "execution_count": 20,
   "metadata": {},
   "outputs": [],
   "source": [
    "import matplotlib.pyplot as plt\n",
    "\n",
    "def get_ground_truth(data):\n",
    "    relapsed = data[data.Illicit_Cens0 == 0]\n",
    "    counts = relapsed['Illicit_Days0'].value_counts()\n",
    "    counts = counts.to_dict()\n",
    "    temp = [len(data)] * 365\n",
    "    labels = list(range(365))\n",
    "    for i in range(365):\n",
    "        labels[i] += 1\n",
    "    total = 0\n",
    "    errors = []\n",
    "    for i in range(365):\n",
    "        try:\n",
    "            temp[i] = temp[i] - counts[i+1] - total\n",
    "            total = total + counts[i+1]\n",
    "        except KeyError:\n",
    "            errors.append(i)\n",
    "\n",
    "    for ele in sorted(errors, reverse = False):\n",
    "        if ele != 0:\n",
    "            temp[ele] = temp[ele-1]\n",
    "        else:\n",
    "             temp[0] = len(data)\n",
    "    temp = [x / len(data) for x in temp]\n",
    "    return labels, temp"
   ]
  },
  {
   "cell_type": "code",
   "execution_count": 21,
   "metadata": {},
   "outputs": [],
   "source": [
    "# helper function to formulate filename to save graphs\n",
    "\n",
    "def set_filename(base):\n",
    "    global INCLUDE_NONILLICIT\n",
    "    global INCLUDE_MURDER\n",
    "    global INCLUDE_HCD\n",
    "    global CONTROL\n",
    "    \n",
    "    filename = 'graphs/' + base\n",
    "    if not INCLUDE_NONILLICIT:\n",
    "        filename += '_illicit'\n",
    "    if INCLUDE_MURDER:\n",
    "        filename += '_murder'\n",
    "    if INCLUDE_HCD:\n",
    "        filename += '_hcd'\n",
    "    if CONTROL:\n",
    "        filename += '_control'\n",
    "    filename += '.png'\n",
    "    print('saving file to', filename)\n",
    "    return filename"
   ]
  },
  {
   "cell_type": "code",
   "execution_count": 22,
   "metadata": {},
   "outputs": [],
   "source": [
    "INCLUDE_NONILLICIT = True\n",
    "INCLUDE_MURDER = False\n",
    "INCLUDE_HCD = False\n",
    "CONTROL = False"
   ]
  },
  {
   "cell_type": "code",
   "execution_count": 23,
   "metadata": {},
   "outputs": [
    {
     "data": {
      "text/html": [
       "<div>\n",
       "<style scoped>\n",
       "    .dataframe tbody tr th:only-of-type {\n",
       "        vertical-align: middle;\n",
       "    }\n",
       "\n",
       "    .dataframe tbody tr th {\n",
       "        vertical-align: top;\n",
       "    }\n",
       "\n",
       "    .dataframe thead th {\n",
       "        text-align: right;\n",
       "    }\n",
       "</style>\n",
       "<table border=\"1\" class=\"dataframe\">\n",
       "  <thead>\n",
       "    <tr style=\"text-align: right;\">\n",
       "      <th></th>\n",
       "      <th>Unnamed: 0</th>\n",
       "      <th>Unnamed: 0.1</th>\n",
       "      <th>Unnamed: 0.1.1</th>\n",
       "      <th>ID</th>\n",
       "      <th>State</th>\n",
       "      <th>City</th>\n",
       "      <th>agyaddr</th>\n",
       "      <th>Illicit_Days0</th>\n",
       "      <th>Illicit_Cens0</th>\n",
       "      <th>adol</th>\n",
       "      <th>xobsyr_0</th>\n",
       "      <th>female_cd</th>\n",
       "      <th>nonwhite_cd</th>\n",
       "      <th>unemplmt_cd</th>\n",
       "      <th>prsatx_cd</th>\n",
       "      <th>gvsg_cd</th>\n",
       "      <th>CWSg_0_cd</th>\n",
       "      <th>srprobg_cd</th>\n",
       "      <th>dssg_0_cd</th>\n",
       "      <th>epsg_0_cd</th>\n",
       "      <th>adhdg_0_cd</th>\n",
       "      <th>cdsg_0_cd</th>\n",
       "      <th>cjsig_0_cd</th>\n",
       "      <th>lrig_0_cd</th>\n",
       "      <th>srig_0_cd</th>\n",
       "      <th>SESg_0_cd</th>\n",
       "      <th>r4ag_0_cd</th>\n",
       "      <th>nonillicit_flag</th>\n",
       "      <th>primsev_cd_1</th>\n",
       "      <th>primsev_cd_2</th>\n",
       "      <th>primsev_cd_3</th>\n",
       "      <th>primsev_cd_4</th>\n",
       "      <th>primsev_cd_5</th>\n",
       "      <th>primsev_cd_6</th>\n",
       "      <th>Address</th>\n",
       "      <th>lat</th>\n",
       "      <th>lng</th>\n",
       "      <th>block_fips</th>\n",
       "      <th>murder_numg</th>\n",
       "      <th>hcd</th>\n",
       "    </tr>\n",
       "  </thead>\n",
       "  <tbody>\n",
       "    <tr>\n",
       "      <th>0</th>\n",
       "      <td>0</td>\n",
       "      <td>0</td>\n",
       "      <td>0</td>\n",
       "      <td>23223</td>\n",
       "      <td>FL</td>\n",
       "      <td>Miami</td>\n",
       "      <td>2140 South Dixie Hwy</td>\n",
       "      <td>365</td>\n",
       "      <td>0</td>\n",
       "      <td>0</td>\n",
       "      <td>2010</td>\n",
       "      <td>0</td>\n",
       "      <td>1</td>\n",
       "      <td>0</td>\n",
       "      <td>0</td>\n",
       "      <td>0</td>\n",
       "      <td>0</td>\n",
       "      <td>1</td>\n",
       "      <td>1</td>\n",
       "      <td>0</td>\n",
       "      <td>0</td>\n",
       "      <td>0</td>\n",
       "      <td>0</td>\n",
       "      <td>1</td>\n",
       "      <td>1</td>\n",
       "      <td>0</td>\n",
       "      <td>1</td>\n",
       "      <td>1</td>\n",
       "      <td>0</td>\n",
       "      <td>0</td>\n",
       "      <td>1</td>\n",
       "      <td>0</td>\n",
       "      <td>0</td>\n",
       "      <td>0</td>\n",
       "      <td>2140 South Dixie Hwy, Miami, FL</td>\n",
       "      <td>25.743113</td>\n",
       "      <td>-80.228303</td>\n",
       "      <td>1.208601e+14</td>\n",
       "      <td>0.0</td>\n",
       "      <td>0.0</td>\n",
       "    </tr>\n",
       "    <tr>\n",
       "      <th>1</th>\n",
       "      <td>1</td>\n",
       "      <td>1</td>\n",
       "      <td>1</td>\n",
       "      <td>857</td>\n",
       "      <td>OH</td>\n",
       "      <td>Cleveland</td>\n",
       "      <td>1276 West Third St. #400</td>\n",
       "      <td>365</td>\n",
       "      <td>0</td>\n",
       "      <td>1</td>\n",
       "      <td>2005</td>\n",
       "      <td>0</td>\n",
       "      <td>0</td>\n",
       "      <td>0</td>\n",
       "      <td>0</td>\n",
       "      <td>2</td>\n",
       "      <td>0</td>\n",
       "      <td>0</td>\n",
       "      <td>1</td>\n",
       "      <td>1</td>\n",
       "      <td>1</td>\n",
       "      <td>1</td>\n",
       "      <td>0</td>\n",
       "      <td>1</td>\n",
       "      <td>2</td>\n",
       "      <td>0</td>\n",
       "      <td>1</td>\n",
       "      <td>1</td>\n",
       "      <td>1</td>\n",
       "      <td>0</td>\n",
       "      <td>0</td>\n",
       "      <td>0</td>\n",
       "      <td>0</td>\n",
       "      <td>0</td>\n",
       "      <td>1276 West Third St. #400, Cleveland, OH</td>\n",
       "      <td>41.501028</td>\n",
       "      <td>-81.697772</td>\n",
       "      <td>3.903511e+14</td>\n",
       "      <td>0.0</td>\n",
       "      <td>NaN</td>\n",
       "    </tr>\n",
       "    <tr>\n",
       "      <th>2</th>\n",
       "      <td>2</td>\n",
       "      <td>2</td>\n",
       "      <td>2</td>\n",
       "      <td>929</td>\n",
       "      <td>OH</td>\n",
       "      <td>Cleveland</td>\n",
       "      <td>1276 West Third St. #400</td>\n",
       "      <td>354</td>\n",
       "      <td>0</td>\n",
       "      <td>1</td>\n",
       "      <td>2006</td>\n",
       "      <td>0</td>\n",
       "      <td>0</td>\n",
       "      <td>0</td>\n",
       "      <td>0</td>\n",
       "      <td>1</td>\n",
       "      <td>0</td>\n",
       "      <td>1</td>\n",
       "      <td>0</td>\n",
       "      <td>1</td>\n",
       "      <td>0</td>\n",
       "      <td>1</td>\n",
       "      <td>1</td>\n",
       "      <td>0</td>\n",
       "      <td>1</td>\n",
       "      <td>0</td>\n",
       "      <td>2</td>\n",
       "      <td>1</td>\n",
       "      <td>1</td>\n",
       "      <td>0</td>\n",
       "      <td>0</td>\n",
       "      <td>0</td>\n",
       "      <td>0</td>\n",
       "      <td>0</td>\n",
       "      <td>1276 West Third St. #400, Cleveland, OH</td>\n",
       "      <td>41.501028</td>\n",
       "      <td>-81.697772</td>\n",
       "      <td>3.903511e+14</td>\n",
       "      <td>0.0</td>\n",
       "      <td>NaN</td>\n",
       "    </tr>\n",
       "    <tr>\n",
       "      <th>3</th>\n",
       "      <td>3</td>\n",
       "      <td>3</td>\n",
       "      <td>3</td>\n",
       "      <td>951</td>\n",
       "      <td>OH</td>\n",
       "      <td>Cleveland</td>\n",
       "      <td>1276 West Third St. #400</td>\n",
       "      <td>365</td>\n",
       "      <td>0</td>\n",
       "      <td>1</td>\n",
       "      <td>2006</td>\n",
       "      <td>0</td>\n",
       "      <td>0</td>\n",
       "      <td>0</td>\n",
       "      <td>0</td>\n",
       "      <td>0</td>\n",
       "      <td>0</td>\n",
       "      <td>1</td>\n",
       "      <td>0</td>\n",
       "      <td>0</td>\n",
       "      <td>0</td>\n",
       "      <td>0</td>\n",
       "      <td>1</td>\n",
       "      <td>0</td>\n",
       "      <td>1</td>\n",
       "      <td>0</td>\n",
       "      <td>2</td>\n",
       "      <td>1</td>\n",
       "      <td>0</td>\n",
       "      <td>0</td>\n",
       "      <td>1</td>\n",
       "      <td>0</td>\n",
       "      <td>0</td>\n",
       "      <td>0</td>\n",
       "      <td>1276 West Third St. #400, Cleveland, OH</td>\n",
       "      <td>41.501028</td>\n",
       "      <td>-81.697772</td>\n",
       "      <td>3.903511e+14</td>\n",
       "      <td>0.0</td>\n",
       "      <td>NaN</td>\n",
       "    </tr>\n",
       "    <tr>\n",
       "      <th>4</th>\n",
       "      <td>4</td>\n",
       "      <td>4</td>\n",
       "      <td>4</td>\n",
       "      <td>1032</td>\n",
       "      <td>OH</td>\n",
       "      <td>Cleveland</td>\n",
       "      <td>1276 West Third St. #400</td>\n",
       "      <td>365</td>\n",
       "      <td>0</td>\n",
       "      <td>1</td>\n",
       "      <td>2006</td>\n",
       "      <td>0</td>\n",
       "      <td>0</td>\n",
       "      <td>0</td>\n",
       "      <td>0</td>\n",
       "      <td>2</td>\n",
       "      <td>0</td>\n",
       "      <td>1</td>\n",
       "      <td>1</td>\n",
       "      <td>1</td>\n",
       "      <td>1</td>\n",
       "      <td>1</td>\n",
       "      <td>0</td>\n",
       "      <td>2</td>\n",
       "      <td>1</td>\n",
       "      <td>0</td>\n",
       "      <td>2</td>\n",
       "      <td>1</td>\n",
       "      <td>0</td>\n",
       "      <td>0</td>\n",
       "      <td>1</td>\n",
       "      <td>0</td>\n",
       "      <td>0</td>\n",
       "      <td>0</td>\n",
       "      <td>1276 West Third St. #400, Cleveland, OH</td>\n",
       "      <td>41.501028</td>\n",
       "      <td>-81.697772</td>\n",
       "      <td>3.903511e+14</td>\n",
       "      <td>0.0</td>\n",
       "      <td>NaN</td>\n",
       "    </tr>\n",
       "  </tbody>\n",
       "</table>\n",
       "</div>"
      ],
      "text/plain": [
       "   Unnamed: 0  Unnamed: 0.1  Unnamed: 0.1.1     ID State       City  \\\n",
       "0           0             0               0  23223    FL      Miami   \n",
       "1           1             1               1    857    OH  Cleveland   \n",
       "2           2             2               2    929    OH  Cleveland   \n",
       "3           3             3               3    951    OH  Cleveland   \n",
       "4           4             4               4   1032    OH  Cleveland   \n",
       "\n",
       "                    agyaddr  Illicit_Days0  Illicit_Cens0  adol  xobsyr_0  \\\n",
       "0      2140 South Dixie Hwy            365              0     0      2010   \n",
       "1  1276 West Third St. #400            365              0     1      2005   \n",
       "2  1276 West Third St. #400            354              0     1      2006   \n",
       "3  1276 West Third St. #400            365              0     1      2006   \n",
       "4  1276 West Third St. #400            365              0     1      2006   \n",
       "\n",
       "   female_cd  nonwhite_cd  unemplmt_cd  prsatx_cd  gvsg_cd  CWSg_0_cd  \\\n",
       "0          0            1            0          0        0          0   \n",
       "1          0            0            0          0        2          0   \n",
       "2          0            0            0          0        1          0   \n",
       "3          0            0            0          0        0          0   \n",
       "4          0            0            0          0        2          0   \n",
       "\n",
       "   srprobg_cd  dssg_0_cd  epsg_0_cd  adhdg_0_cd  cdsg_0_cd  cjsig_0_cd  \\\n",
       "0           1          1          0           0          0           0   \n",
       "1           0          1          1           1          1           0   \n",
       "2           1          0          1           0          1           1   \n",
       "3           1          0          0           0          0           1   \n",
       "4           1          1          1           1          1           0   \n",
       "\n",
       "   lrig_0_cd  srig_0_cd  SESg_0_cd  r4ag_0_cd  nonillicit_flag  primsev_cd_1  \\\n",
       "0          1          1          0          1                1             0   \n",
       "1          1          2          0          1                1             1   \n",
       "2          0          1          0          2                1             1   \n",
       "3          0          1          0          2                1             0   \n",
       "4          2          1          0          2                1             0   \n",
       "\n",
       "   primsev_cd_2  primsev_cd_3  primsev_cd_4  primsev_cd_5  primsev_cd_6  \\\n",
       "0             0             1             0             0             0   \n",
       "1             0             0             0             0             0   \n",
       "2             0             0             0             0             0   \n",
       "3             0             1             0             0             0   \n",
       "4             0             1             0             0             0   \n",
       "\n",
       "                                   Address        lat        lng  \\\n",
       "0          2140 South Dixie Hwy, Miami, FL  25.743113 -80.228303   \n",
       "1  1276 West Third St. #400, Cleveland, OH  41.501028 -81.697772   \n",
       "2  1276 West Third St. #400, Cleveland, OH  41.501028 -81.697772   \n",
       "3  1276 West Third St. #400, Cleveland, OH  41.501028 -81.697772   \n",
       "4  1276 West Third St. #400, Cleveland, OH  41.501028 -81.697772   \n",
       "\n",
       "     block_fips  murder_numg  hcd  \n",
       "0  1.208601e+14          0.0  0.0  \n",
       "1  3.903511e+14          0.0  NaN  \n",
       "2  3.903511e+14          0.0  NaN  \n",
       "3  3.903511e+14          0.0  NaN  \n",
       "4  3.903511e+14          0.0  NaN  "
      ]
     },
     "execution_count": 23,
     "metadata": {},
     "output_type": "execute_result"
    }
   ],
   "source": [
    "import pandas as pd\n",
    "pd.set_option('display.max_rows', 500)\n",
    "pd.set_option('display.max_columns', 500)\n",
    "import csv\n",
    "\n",
    "df = pd.read_csv('data/data_superset.csv')\n",
    "df.head()"
   ]
  },
  {
   "cell_type": "code",
   "execution_count": 24,
   "metadata": {},
   "outputs": [
    {
     "data": {
      "text/plain": [
       "(21278, 40)"
      ]
     },
     "execution_count": 24,
     "metadata": {},
     "output_type": "execute_result"
    }
   ],
   "source": [
    "df.shape"
   ]
  },
  {
   "cell_type": "code",
   "execution_count": 25,
   "metadata": {},
   "outputs": [
    {
     "data": {
      "text/plain": [
       "(21278, 40)"
      ]
     },
     "execution_count": 25,
     "metadata": {},
     "output_type": "execute_result"
    }
   ],
   "source": [
    "if not INCLUDE_NONILLICIT:\n",
    "    df = df[df.nonillicit_flag == 0] # subset to only the illicit cases\n",
    "df.shape"
   ]
  },
  {
   "cell_type": "code",
   "execution_count": 27,
   "metadata": {},
   "outputs": [
    {
     "data": {
      "image/png": "[encoded data removed]",
      "text/plain": [
       "<Figure size 432x288 with 1 Axes>"
      ]
     },
     "metadata": {
      "needs_background": "light"
     },
     "output_type": "display_data"
    }
   ],
   "source": [
    "# display ground truth survival plot\n",
    "plt.suptitle('Survival: Ground Truths')\n",
    "labels_full, temp_full = get_ground_truth(df[['Illicit_Cens0','Illicit_Days0']])\n",
    "plt.plot(labels_full, temp_full, label='Full Population')\n",
    "illicit_df = df[df.nonillicit_flag == 0]\n",
    "labels_illicit, temp_illicit = get_ground_truth(illicit_df[['Illicit_Cens0','Illicit_Days0']])\n",
    "plt.plot(labels_illicit, temp_illicit, label='Illicit')\n",
    "nonillicit_df = df[df.nonillicit_flag == 1]\n",
    "labels_nonillicit, temp_nonillicit = get_ground_truth(nonillicit_df[['Illicit_Cens0','Illicit_Days0']])\n",
    "plt.plot(labels_nonillicit, temp_nonillicit, label='Non-Illicit')\n",
    "adol_df = df[df.adol == 1]\n",
    "labels_adol, temp_adol = get_ground_truth(adol_df[['Illicit_Cens0','Illicit_Days0']])\n",
    "plt.plot(labels_adol, temp_adol, label='Adol')\n",
    "non_adol_df = df[df.adol == 0]\n",
    "labels_non_adol, temp_non_adol = get_ground_truth(non_adol_df[['Illicit_Cens0','Illicit_Days0']])\n",
    "plt.plot(labels_non_adol, temp_non_adol, label='Non-Adol')\n",
    "plt.legend()\n",
    "plt.xlim(0, 365)\n",
    "plt.xticks(np.arange(0, 365, step=50))\n",
    "plt.yticks(np.arange(0, 1.1, step=0.1))\n",
    "plt.savefig('graphs/GROUND_TRUTH_SURVIVAL.png')\n",
    "plt.show()"
   ]
  },
  {
   "cell_type": "code",
   "execution_count": 247,
   "metadata": {},
   "outputs": [
    {
     "data": {
      "text/plain": [
       "(5292, 111)"
      ]
     },
     "execution_count": 247,
     "metadata": {},
     "output_type": "execute_result"
    }
   ],
   "source": [
    "# drop unnecessary columns\n",
    "df.drop(columns=['Unnamed: 0'], inplace=True)\n",
    "df.shape"
   ]
  },
  {
   "cell_type": "markdown",
   "metadata": {},
   "source": [
    "Full Population Survival Analysis"
   ]
  },
  {
   "cell_type": "code",
   "execution_count": 248,
   "metadata": {},
   "outputs": [
    {
     "name": "stdout",
     "output_type": "stream",
     "text": [
      "(4233, 109) (4233,)\n",
      "(1059, 109) (1059,)\n"
     ]
    }
   ],
   "source": [
    "from sklearn.model_selection import train_test_split\n",
    "from sksurv.util import Surv\n",
    "\n",
    "predictor_var = 'Illicit_Days0'\n",
    "censoring_var = 'Illicit_Cens0'\n",
    "\n",
    "y = df[[censoring_var, predictor_var]]\n",
    "df.drop(columns=[censoring_var, predictor_var], inplace=True)\n",
    "\n",
    "X_train, X_test, y_train, y_test = train_test_split(df, y, test_size=0.2)\n",
    "y_train_censored = Surv.from_arrays(y_train[censoring_var].copy(), y_train[predictor_var].copy()) # structured array to ensure censoring of 365 value\n",
    "y_test_censored = Surv.from_arrays(y_test[censoring_var].copy(), y_test[predictor_var].copy()) # structured array to ensure censoring of 365 value\n",
    "print(X_train.shape, y_train_censored.shape)\n",
    "print(X_test.shape, y_test_censored.shape)"
   ]
  },
  {
   "cell_type": "code",
   "execution_count": 249,
   "metadata": {},
   "outputs": [
    {
     "name": "stdout",
     "output_type": "stream",
     "text": [
      "CPU times: user 30.5 s, sys: 567 ms, total: 31 s\n",
      "Wall time: 38.8 s\n"
     ]
    },
    {
     "data": {
      "text/plain": [
       "GradientBoostingSurvivalAnalysis(criterion='friedman_mse', dropout_rate=0.0,\n",
       "                                 learning_rate=0.1, loss='coxph', max_depth=3,\n",
       "                                 max_features=None, max_leaf_nodes=None,\n",
       "                                 min_impurity_decrease=0.0,\n",
       "                                 min_impurity_split=None, min_samples_leaf=1,\n",
       "                                 min_samples_split=2,\n",
       "                                 min_weight_fraction_leaf=0.0, n_estimators=100,\n",
       "                                 presort='auto', random_state=None,\n",
       "                                 subsample=1.0, verbose=0)"
      ]
     },
     "execution_count": 249,
     "metadata": {},
     "output_type": "execute_result"
    }
   ],
   "source": [
    "%%time\n",
    "from sksurv.ensemble import GradientBoostingSurvivalAnalysis\n",
    "\n",
    "gbsa = GradientBoostingSurvivalAnalysis()\n",
    "gbsa.fit(X_train, y_train_censored)"
   ]
  },
  {
   "cell_type": "code",
   "execution_count": 250,
   "metadata": {},
   "outputs": [
    {
     "name": "stdout",
     "output_type": "stream",
     "text": [
      "CPU times: user 2.84 s, sys: 270 ms, total: 3.11 s\n",
      "Wall time: 5.99 s\n"
     ]
    },
    {
     "data": {
      "text/plain": [
       "RandomSurvivalForest(bootstrap=True, max_depth=None, max_features='auto',\n",
       "                     max_leaf_nodes=None, min_samples_leaf=3,\n",
       "                     min_samples_split=6, min_weight_fraction_leaf=0.0,\n",
       "                     n_estimators=100, n_jobs=None, oob_score=False,\n",
       "                     random_state=None, verbose=0, warm_start=False)"
      ]
     },
     "execution_count": 250,
     "metadata": {},
     "output_type": "execute_result"
    }
   ],
   "source": [
    "%%time\n",
    "from sksurv.ensemble import RandomSurvivalForest\n",
    "\n",
    "rsf = RandomSurvivalForest()\n",
    "rsf.fit(X_train, y_train_censored)"
   ]
  },
  {
   "cell_type": "code",
   "execution_count": 251,
   "metadata": {},
   "outputs": [
    {
     "name": "stdout",
     "output_type": "stream",
     "text": [
      "CPU times: user 1.46 s, sys: 111 ms, total: 1.58 s\n",
      "Wall time: 2.12 s\n"
     ]
    },
    {
     "data": {
      "text/plain": [
       "CoxnetSurvivalAnalysis(alpha_min_ratio=0.0001, alphas=None, copy_X=True,\n",
       "                       fit_baseline_model=True, l1_ratio=1, max_iter=100000,\n",
       "                       n_alphas=100, normalize=False, penalty_factor=None,\n",
       "                       tol=1e-07, verbose=False)"
      ]
     },
     "execution_count": 251,
     "metadata": {},
     "output_type": "execute_result"
    }
   ],
   "source": [
    "%%time\n",
    "from sksurv.linear_model import CoxnetSurvivalAnalysis\n",
    "\n",
    "# l1_ratio = 1 adjusts model to implement LASSO method for penalties\n",
    "# fit_baseline_model = True allows us to create survival/hazard plots after model is fit\n",
    "\n",
    "rcr = CoxnetSurvivalAnalysis(fit_baseline_model=True, l1_ratio=1)\n",
    "rcr.fit(X_train, y_train_censored)"
   ]
  },
  {
   "cell_type": "markdown",
   "metadata": {},
   "source": [
    "Full Population Sruvival Curves"
   ]
  },
  {
   "cell_type": "code",
   "execution_count": 252,
   "metadata": {},
   "outputs": [],
   "source": [
    "pred_surv_rsf = rsf.predict_survival_function(X_test)\n",
    "pred_surv_rcr = rcr.predict_survival_function(X_test)"
   ]
  },
  {
   "cell_type": "code",
   "execution_count": 253,
   "metadata": {},
   "outputs": [
    {
     "data": {
      "image/png": "[encoded data removed]",
      "text/plain": [
       "<Figure size 432x288 with 1 Axes>"
      ]
     },
     "metadata": {
      "needs_background": "light"
     },
     "output_type": "display_data"
    }
   ],
   "source": [
    "# display survival plot\n",
    "plt.suptitle('Survival')\n",
    "plt.plot(np.mean([person for person in pred_surv_rsf], axis=0), label='RF')\n",
    "plt.plot(np.mean([person.y for person in pred_surv_rcr], axis=0), label='Lasso')\n",
    "labels, temp = get_ground_truth(y_test)\n",
    "plt.plot(labels, temp, label='Ground Truth')\n",
    "plt.legend()\n",
    "plt.xlim(0, 365)\n",
    "plt.xticks(np.arange(0, 365, step=50))\n",
    "plt.yticks(np.arange(0, 1.1, step=0.1))\n",
    "\n",
    "if INCLUDE_NONILLICIT:\n",
    "    if INCLUDE_MURDER:\n",
    "        fname = 'graphs/survival_grouped_with_murder.png'\n",
    "    elif INCLUDE_CENSUS:\n",
    "        fname = 'graphs/survival_grouped_with_census.png'\n",
    "    else:\n",
    "        fname = 'graphs/survival_grouped.png'\n",
    "else:\n",
    "    if INCLUDE_MURDER:\n",
    "        fname = 'graphs/survival_grouped_illicit_with_murder.png'\n",
    "    elif INCLUDE_CENSUS:\n",
    "        fname = 'graphs/survival_grouped_illicit_with_census.png'\n",
    "    else:\n",
    "        fname = 'graphs/survival_illicit_grouped.png'\n",
    "\n",
    "plt.savefig(fname)\n",
    "plt.show()"
   ]
  },
  {
   "cell_type": "markdown",
   "metadata": {},
   "source": [
    "Full Population Statistics"
   ]
  },
  {
   "cell_type": "code",
   "execution_count": 254,
   "metadata": {},
   "outputs": [
    {
     "data": {
      "text/html": [
       "<div>\n",
       "<style scoped>\n",
       "    .dataframe tbody tr th:only-of-type {\n",
       "        vertical-align: middle;\n",
       "    }\n",
       "\n",
       "    .dataframe tbody tr th {\n",
       "        vertical-align: top;\n",
       "    }\n",
       "\n",
       "    .dataframe thead th {\n",
       "        text-align: right;\n",
       "    }\n",
       "</style>\n",
       "<table border=\"1\" class=\"dataframe\">\n",
       "  <thead>\n",
       "    <tr style=\"text-align: right;\">\n",
       "      <th></th>\n",
       "      <th>Model</th>\n",
       "      <th>Concordance</th>\n",
       "    </tr>\n",
       "  </thead>\n",
       "  <tbody>\n",
       "    <tr>\n",
       "      <th>0</th>\n",
       "      <td>Random Forest Boosted</td>\n",
       "      <td>0.698464</td>\n",
       "    </tr>\n",
       "    <tr>\n",
       "      <th>1</th>\n",
       "      <td>Random Forest</td>\n",
       "      <td>0.696645</td>\n",
       "    </tr>\n",
       "    <tr>\n",
       "      <th>2</th>\n",
       "      <td>Lasso</td>\n",
       "      <td>0.697747</td>\n",
       "    </tr>\n",
       "  </tbody>\n",
       "</table>\n",
       "</div>"
      ],
      "text/plain": [
       "                   Model  Concordance\n",
       "0  Random Forest Boosted     0.698464\n",
       "1          Random Forest     0.696645\n",
       "2                  Lasso     0.697747"
      ]
     },
     "execution_count": 254,
     "metadata": {},
     "output_type": "execute_result"
    }
   ],
   "source": [
    "# concordance index\n",
    "scores = {'Model': ['Random Forest Boosted', 'Random Forest', 'Lasso'], \n",
    "               'Concordance': [gbsa.score(X_test, y_test_censored), rsf.score(X_test, y_test_censored), \n",
    "                        rcr.score(X_test, y_test_censored)]}\n",
    "pd.DataFrame(data=scores)"
   ]
  },
  {
   "cell_type": "code",
   "execution_count": 255,
   "metadata": {},
   "outputs": [
    {
     "data": {
      "text/html": [
       "<table style=\"display:inline\" border=\"1\" class=\"dataframe\">\n",
       "  <thead>\n",
       "    <tr style=\"text-align: right;\">\n",
       "      <th></th>\n",
       "      <th>Feature</th>\n",
       "      <th>Importance</th>\n",
       "      <th>Importance_abs</th>\n",
       "    </tr>\n",
       "  </thead>\n",
       "  <tbody>\n",
       "    <tr>\n",
       "      <th>16</th>\n",
       "      <td>srprobg_0.0</td>\n",
       "      <td>-0.408510</td>\n",
       "      <td>0.408510</td>\n",
       "    </tr>\n",
       "    <tr>\n",
       "      <th>18</th>\n",
       "      <td>srprobg_2.0</td>\n",
       "      <td>0.120643</td>\n",
       "      <td>0.120643</td>\n",
       "    </tr>\n",
       "    <tr>\n",
       "      <th>107</th>\n",
       "      <td>primsev_5.0</td>\n",
       "      <td>0.118059</td>\n",
       "      <td>0.118059</td>\n",
       "    </tr>\n",
       "  </tbody>\n",
       "</table style=\"display:inline\"><table style=\"display:inline\" border=\"1\" class=\"dataframe\">\n",
       "  <thead>\n",
       "    <tr style=\"text-align: right;\">\n",
       "      <th></th>\n",
       "      <th>Feature</th>\n",
       "      <th>Importance</th>\n",
       "      <th>Importance_abs</th>\n",
       "    </tr>\n",
       "  </thead>\n",
       "  <tbody>\n",
       "    <tr>\n",
       "      <th>27</th>\n",
       "      <td>epsg_0_0</td>\n",
       "      <td>-0.068513</td>\n",
       "      <td>0.068513</td>\n",
       "    </tr>\n",
       "    <tr>\n",
       "      <th>108</th>\n",
       "      <td>primsev_6.0</td>\n",
       "      <td>0.050852</td>\n",
       "      <td>0.050852</td>\n",
       "    </tr>\n",
       "    <tr>\n",
       "      <th>103</th>\n",
       "      <td>r4ag_0_2.0</td>\n",
       "      <td>0.037052</td>\n",
       "      <td>0.037052</td>\n",
       "    </tr>\n",
       "  </tbody>\n",
       "</table style=\"display:inline\"><table style=\"display:inline\" border=\"1\" class=\"dataframe\">\n",
       "  <thead>\n",
       "    <tr style=\"text-align: right;\">\n",
       "      <th></th>\n",
       "      <th>Feature</th>\n",
       "      <th>Importance</th>\n",
       "      <th>Importance_abs</th>\n",
       "    </tr>\n",
       "  </thead>\n",
       "  <tbody>\n",
       "    <tr>\n",
       "      <th>98</th>\n",
       "      <td>SESg_0_0</td>\n",
       "      <td>-0.031791</td>\n",
       "      <td>0.031791</td>\n",
       "    </tr>\n",
       "    <tr>\n",
       "      <th>106</th>\n",
       "      <td>primsev_4.0</td>\n",
       "      <td>0.030613</td>\n",
       "      <td>0.030613</td>\n",
       "    </tr>\n",
       "    <tr>\n",
       "      <th>60</th>\n",
       "      <td>pssig_0_-8</td>\n",
       "      <td>-0.023518</td>\n",
       "      <td>0.023518</td>\n",
       "    </tr>\n",
       "  </tbody>\n",
       "</table style=\"display:inline\">"
      ]
     },
     "metadata": {},
     "output_type": "display_data"
    }
   ],
   "source": [
    "feature_importances_lasso = pd.DataFrame({'Feature':X_train.columns, \n",
    "                                          'Importance':np.average(rcr.coef_, weights=rcr.alphas_, axis = 1),})\n",
    "feature_importances_lasso['Importance_abs'] = np.absolute(feature_importances_lasso['Importance'])\n",
    "feature_importances_lasso = feature_importances_lasso.nlargest(10,['Importance_abs'])\n",
    "display_side_by_side(feature_importances_lasso, 3)"
   ]
  },
  {
   "cell_type": "code",
   "execution_count": 256,
   "metadata": {},
   "outputs": [
    {
     "data": {
      "text/html": [
       "<table style=\"display:inline\" border=\"1\" class=\"dataframe\">\n",
       "  <thead>\n",
       "    <tr style=\"text-align: right;\">\n",
       "      <th></th>\n",
       "      <th>Feature</th>\n",
       "      <th>Importance</th>\n",
       "    </tr>\n",
       "  </thead>\n",
       "  <tbody>\n",
       "    <tr>\n",
       "      <th>16</th>\n",
       "      <td>srprobg_0.0</td>\n",
       "      <td>0.429364</td>\n",
       "    </tr>\n",
       "    <tr>\n",
       "      <th>107</th>\n",
       "      <td>primsev_5.0</td>\n",
       "      <td>0.098775</td>\n",
       "    </tr>\n",
       "    <tr>\n",
       "      <th>108</th>\n",
       "      <td>primsev_6.0</td>\n",
       "      <td>0.053921</td>\n",
       "    </tr>\n",
       "  </tbody>\n",
       "</table style=\"display:inline\"><table style=\"display:inline\" border=\"1\" class=\"dataframe\">\n",
       "  <thead>\n",
       "    <tr style=\"text-align: right;\">\n",
       "      <th></th>\n",
       "      <th>Feature</th>\n",
       "      <th>Importance</th>\n",
       "    </tr>\n",
       "  </thead>\n",
       "  <tbody>\n",
       "    <tr>\n",
       "      <th>27</th>\n",
       "      <td>epsg_0_0</td>\n",
       "      <td>0.046666</td>\n",
       "    </tr>\n",
       "    <tr>\n",
       "      <th>18</th>\n",
       "      <td>srprobg_2.0</td>\n",
       "      <td>0.034074</td>\n",
       "    </tr>\n",
       "    <tr>\n",
       "      <th>106</th>\n",
       "      <td>primsev_4.0</td>\n",
       "      <td>0.027787</td>\n",
       "    </tr>\n",
       "  </tbody>\n",
       "</table style=\"display:inline\"><table style=\"display:inline\" border=\"1\" class=\"dataframe\">\n",
       "  <thead>\n",
       "    <tr style=\"text-align: right;\">\n",
       "      <th></th>\n",
       "      <th>Feature</th>\n",
       "      <th>Importance</th>\n",
       "    </tr>\n",
       "  </thead>\n",
       "  <tbody>\n",
       "    <tr>\n",
       "      <th>64</th>\n",
       "      <td>pssig_0_0</td>\n",
       "      <td>0.022932</td>\n",
       "    </tr>\n",
       "    <tr>\n",
       "      <th>103</th>\n",
       "      <td>r4ag_0_2.0</td>\n",
       "      <td>0.022626</td>\n",
       "    </tr>\n",
       "    <tr>\n",
       "      <th>33</th>\n",
       "      <td>adhdg_0_0</td>\n",
       "      <td>0.020523</td>\n",
       "    </tr>\n",
       "  </tbody>\n",
       "</table style=\"display:inline\">"
      ]
     },
     "metadata": {},
     "output_type": "display_data"
    }
   ],
   "source": [
    "feature_importances_rf = pd.DataFrame({'Feature':X_train.columns, 'Importance':gbsa.feature_importances_,})\n",
    "feature_importances_rf = feature_importances_rf.nlargest(10,['Importance'])\n",
    "display_side_by_side(feature_importances_rf, 3)"
   ]
  },
  {
   "cell_type": "code",
   "execution_count": 257,
   "metadata": {
    "scrolled": true
   },
   "outputs": [
    {
     "data": {
      "image/png": "[encoded data removed]",
      "text/plain": [
       "<Figure size 864x864 with 1 Axes>"
      ]
     },
     "metadata": {
      "needs_background": "light"
     },
     "output_type": "display_data"
    }
   ],
   "source": [
    "df = pd.DataFrame({'Importance': feature_importances_lasso['Importance'].tolist()},\n",
    "                  index=feature_importances_lasso['Feature'].tolist())\n",
    "df.sort_values(by=['Importance'], ascending=False, inplace=True)\n",
    "ax = df.plot.bar(rot=50, figsize=(12, 12), orientation='vertical')\n",
    "fig = ax.get_figure()\n",
    "\n",
    "if INCLUDE_NONILLICIT:\n",
    "    if INCLUDE_MURDER:\n",
    "        fname = 'graphs/feature_importances_lasso_grouped_with_murder.png'\n",
    "    elif INCLUDE_CENSUS:\n",
    "        fname = 'graphs/feature_importances_lasso_grouped_with_census.png'\n",
    "    else:\n",
    "        fname = 'graphs/feature_importances_lasso_grouped.png'\n",
    "else:\n",
    "    if INCLUDE_MURDER:\n",
    "        fname = 'graphs/feature_importances_lasso_illicit_grouped_with_murder.png'\n",
    "    elif INCLUDE_CENSUS:\n",
    "        fname = 'graphs/feature_importances_lasso_illicit_grouped_with_census.png'\n",
    "    else:\n",
    "        fname = 'graphs/feature_importances_lasso_illicit_grouped.png'\n",
    "        \n",
    "fig.savefig(fname, bbox_inches='tight')"
   ]
  },
  {
   "cell_type": "code",
   "execution_count": 258,
   "metadata": {},
   "outputs": [
    {
     "data": {
      "image/png": "[encoded data removed]",
      "text/plain": [
       "<Figure size 864x864 with 1 Axes>"
      ]
     },
     "metadata": {
      "needs_background": "light"
     },
     "output_type": "display_data"
    }
   ],
   "source": [
    "df = pd.DataFrame({'Importance': feature_importances_rf['Importance'].tolist()},\n",
    "                  index=feature_importances_rf['Feature'].tolist())\n",
    "df.sort_values(by=['Importance'], ascending=False, inplace=True)\n",
    "ax = df.plot.bar(rot=50, figsize=(12, 12), orientation='vertical')\n",
    "fig = ax.get_figure()\n",
    "\n",
    "if INCLUDE_NONILLICIT:\n",
    "    if INCLUDE_MURDER:\n",
    "        fname = 'graphs/feature_importances_rf_grouped_with_murder.png'\n",
    "    elif INCLUDE_CENSUS:\n",
    "        fname = 'graphs/feature_importances_rf_grouped_with_census.png'\n",
    "    else:\n",
    "        fname = 'graphs/feature_importances_rf_grouped.png'\n",
    "else:\n",
    "    if INCLUDE_MURDER:\n",
    "        fname = 'graphs/feature_importances_rf_illicit_grouped_with_murder.png'\n",
    "    elif INCLUDE_CENSUS:\n",
    "        fname = 'graphs/feature_importances_rf_illicit_grouped_with_census.png'\n",
    "    else:\n",
    "        fname = 'graphs/feature_importances_rf_illicit_grouped.png'\n",
    "        \n",
    "fig.savefig(fname, bbox_inches='tight')"
   ]
  },
  {
   "cell_type": "code",
   "execution_count": 259,
   "metadata": {},
   "outputs": [
    {
     "name": "stdout",
     "output_type": "stream",
     "text": [
      "['adhdg_0_0' 'epsg_0_0' 'primsev_4.0' 'primsev_5.0' 'primsev_6.0'\n",
      " 'r4ag_0_2.0' 'srprobg_0.0' 'srprobg_2.0']\n"
     ]
    }
   ],
   "source": [
    "# features in top 10 of both models\n",
    "feature_importance_intersection = np.intersect1d(feature_importances_rf['Feature'],\n",
    "                                                 feature_importances_lasso['Feature'])\n",
    "print(feature_importance_intersection)"
   ]
  },
  {
   "cell_type": "code",
   "execution_count": 260,
   "metadata": {},
   "outputs": [
    {
     "name": "stdout",
     "output_type": "stream",
     "text": [
      "--- 0 minutes 52 seconds ---\n"
     ]
    }
   ],
   "source": [
    "# print out total notebook execution time\n",
    "total_seconds = int(time.time() - start_time)\n",
    "minutes = total_seconds // 60\n",
    "seconds = total_seconds % 60\n",
    "print(\"--- \" + str(minutes) + \" minutes \" + str(seconds) + \" seconds ---\")"
   ]
  }
 ],
 "metadata": {
  "kernelspec": {
   "display_name": "Python 3",
   "language": "python",
   "name": "python3"
  },
  "language_info": {
   "codemirror_mode": {
    "name": "ipython",
    "version": 3
   },
   "file_extension": ".py",
   "mimetype": "text/x-python",
   "name": "python",
   "nbconvert_exporter": "python",
   "pygments_lexer": "ipython3",
   "version": "3.7.3"
  }
 },
 "nbformat": 4,
 "nbformat_minor": 2
}
